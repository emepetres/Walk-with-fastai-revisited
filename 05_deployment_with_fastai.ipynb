{
 "cells": [
  {
   "cell_type": "code",
   "execution_count": 1,
   "id": "ab6c91c8",
   "metadata": {},
   "outputs": [],
   "source": [
    "from fastai.vision.all import *"
   ]
  },
  {
   "cell_type": "code",
   "execution_count": 2,
   "id": "a19efa03-9f6c-4ed4-b8e2-a866b5ddcf76",
   "metadata": {},
   "outputs": [],
   "source": [
    "path = untar_data(URLs.PETS)/'images'\n",
    "fnames = get_image_files(path)\n",
    "pat = r'/([^/]+)_\\d+.*'\n",
    "batch_tfms = [*aug_transforms(size=224, max_warp=0), Normalize.from_stats(*imagenet_stats)]\n",
    "item_tfms = RandomResizedCrop(460, min_scale=0.75, ratio=(1.,1.))\n",
    "bs=64\n",
    "\n",
    "pets = DataBlock(\n",
    "    blocks=(ImageBlock, CategoryBlock),\n",
    "     get_items=get_image_files,\n",
    "     splitter=RandomSplitter(),\n",
    "     get_y=RegexLabeller(pat = r'/([^/]+)_\\d+.*'),\n",
    "     item_tfms=item_tfms,\n",
    "     batch_tfms=batch_tfms\n",
    ")\n",
    "dls = pets.dataloaders(path, bs=bs)"
   ]
  },
  {
   "cell_type": "code",
   "execution_count": 3,
   "id": "e3bbb74d-ce46-409b-8ec8-066ef08ab66d",
   "metadata": {},
   "outputs": [],
   "source": [
    "learn = vision_learner(dls, \"vit_tiny_patch16_224\")"
   ]
  },
  {
   "cell_type": "code",
   "execution_count": 7,
   "id": "fd3cf8ac-bc87-42b7-a161-6bae804de617",
   "metadata": {},
   "outputs": [],
   "source": [
    "dls.c"
   ]
  },
  {
   "cell_type": "code",
   "execution_count": 17,
   "id": "8d55efe2-33dc-456e-b3b5-8968be83ffa5",
   "metadata": {},
   "outputs": [],
   "source": [
    "learn.save(\"MyModel\", with_opt=False)"
   ]
  },
  {
   "cell_type": "code",
   "execution_count": 18,
   "id": "e9d45901-6ce8-49fd-8915-7021eaa54044",
   "metadata": {},
   "outputs": [],
   "source": [
    "from timm import create_model\n",
    "class CustomTimmBody(nn.Module):\n",
    "    \"\"\"\n",
    "    A small submodule to work with `timm` models more easily\n",
    "    \"\"\"\n",
    "    def __init__(\n",
    "        self, \n",
    "        model, \n",
    "        pretrained:bool=True, \n",
    "        cut=None, \n",
    "        n_in:int=3\n",
    "    ):\n",
    "        super().__init__()\n",
    "        self.needs_pooling = model.default_cfg.get('pool_size', None)\n",
    "        if cut is None:\n",
    "            self.model = model\n",
    "        else:\n",
    "            self.model = custom_cut_model(model, cut)\n",
    "    \n",
    "    def forward(self, x): \n",
    "        if self.needs_pooling:\n",
    "            return self.model.forward_features(x)\n",
    "        else:\n",
    "            return self.model(x)"
   ]
  },
  {
   "cell_type": "code",
   "execution_count": 25,
   "id": "04148dcf-2628-4398-b403-6ba2c347f002",
   "metadata": {},
   "outputs": [],
   "source": [
    "create_model(\"vit_tiny_patch16_224\", pretrained=True, num_classes=0, in_chans=3)"
   ]
  },
  {
   "cell_type": "code",
   "execution_count": 19,
   "id": "2c10f6b4-b39c-430e-ad16-dd04b7439362",
   "metadata": {},
   "outputs": [],
   "source": [
    "body = CustomTimmBody(\n",
    "    create_model(\"vit_tiny_patch16_224\", pretrained=True, num_classes=0, in_chans=3)\n",
    ")\n",
    "head = create_head(body.model.num_features, 37, pool=None)"
   ]
  },
  {
   "cell_type": "code",
   "execution_count": 20,
   "id": "95eff768-4c63-4287-835a-4a2488c53a12",
   "metadata": {},
   "outputs": [],
   "source": [
    "net = nn.Sequential(body, head)"
   ]
  },
  {
   "cell_type": "code",
   "execution_count": 21,
   "id": "7edf4596-6db3-4bc2-bea3-e68015600873",
   "metadata": {},
   "outputs": [],
   "source": [
    "state = torch.load(\"models/MyModel.pth\")"
   ]
  },
  {
   "cell_type": "code",
   "execution_count": 22,
   "id": "a73b8c39-0bd6-452f-8f59-3fad499292c8",
   "metadata": {},
   "outputs": [],
   "source": [
    "net.load_state_dict(state)"
   ]
  },
  {
   "cell_type": "code",
   "execution_count": null,
   "id": "501ca71a-71e0-447f-8409-1da7b8281bcb",
   "metadata": {},
   "outputs": [],
   "source": []
  }
 ],
 "metadata": {},
 "nbformat": 4,
 "nbformat_minor": 5
}
