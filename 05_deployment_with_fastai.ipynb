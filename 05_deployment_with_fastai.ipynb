{
 "cells": [
  {
   "cell_type": "code",
   "execution_count": 1,
   "id": "ab6c91c8",
   "metadata": {
    "id": "ab6c91c8"
   },
   "outputs": [],
   "source": [
    "from fastai.vision.all import *"
   ]
  },
  {
   "cell_type": "code",
   "execution_count": 2,
   "id": "a19efa03-9f6c-4ed4-b8e2-a866b5ddcf76",
   "metadata": {
    "id": "a19efa03-9f6c-4ed4-b8e2-a866b5ddcf76"
   },
   "outputs": [],
   "source": [
    "path = untar_data(URLs.PETS)/'images'\n",
    "fnames = get_image_files(path)\n",
    "pat = r'/([^/]+)_\\d+.*'\n",
    "batch_tfms = [*aug_transforms(size=224, max_warp=0), Normalize.from_stats(*imagenet_stats)]\n",
    "item_tfms = RandomResizedCrop(460, min_scale=0.75, ratio=(1.,1.))\n",
    "bs=64\n",
    "\n",
    "pets = DataBlock(\n",
    "    blocks=(ImageBlock, CategoryBlock),\n",
    "     get_items=get_image_files,\n",
    "     splitter=RandomSplitter(),\n",
    "     get_y=RegexLabeller(pat = r'/([^/]+)_\\d+.*'),\n",
    "     item_tfms=item_tfms,\n",
    "     batch_tfms=batch_tfms\n",
    ")\n",
    "dls = pets.dataloaders(path, bs=bs)"
   ]
  },
  {
   "cell_type": "code",
   "execution_count": 3,
   "id": "e3bbb74d-ce46-409b-8ec8-066ef08ab66d",
   "metadata": {
    "id": "e3bbb74d-ce46-409b-8ec8-066ef08ab66d"
   },
   "outputs": [],
   "source": [
    "learn = vision_learner(dls, \"vit_tiny_patch16_224\")"
   ]
  },
  {
   "cell_type": "code",
   "execution_count": 4,
   "id": "501ca71a-71e0-447f-8409-1da7b8281bcb",
   "metadata": {
    "colab": {
     "base_uri": "https://localhost:8080/",
     "height": 144
    },
    "id": "501ca71a-71e0-447f-8409-1da7b8281bcb",
    "outputId": "a399b80f-19d6-4a99-8d1d-7a4353837b4e"
   },
   "outputs": [],
   "source": [
    "learn.fine_tune(1)"
   ]
  },
  {
   "cell_type": "code",
   "execution_count": 5,
   "id": "af6b19cf-1db1-4cf8-b69e-6d3c752950b3",
   "metadata": {
    "colab": {
     "base_uri": "https://localhost:8080/"
    },
    "id": "af6b19cf-1db1-4cf8-b69e-6d3c752950b3",
    "outputId": "46f269fa-8661-40ca-95e9-df8b087021ac"
   },
   "outputs": [],
   "source": [
    "learn.export(\"exported_fastai\")\n",
    "learn.save(\"exported_model\")"
   ]
  },
  {
   "cell_type": "code",
   "execution_count": 6,
   "id": "30b4baf4-726a-4f7b-954b-f82d12bb8428",
   "metadata": {
    "id": "30b4baf4-726a-4f7b-954b-f82d12bb8428"
   },
   "outputs": [],
   "source": [
    "learn = load_learner(\"exported_fastai\")"
   ]
  },
  {
   "cell_type": "code",
   "execution_count": 7,
   "id": "5d842d02-863a-42ce-abc2-8c24cf7dcd72",
   "metadata": {
    "colab": {
     "base_uri": "https://localhost:8080/"
    },
    "id": "5d842d02-863a-42ce-abc2-8c24cf7dcd72",
    "outputId": "8cacb094-148e-495c-eed8-68fea3690638"
   },
   "outputs": [],
   "source": [
    "fname = fnames[0]; fname"
   ]
  },
  {
   "cell_type": "code",
   "execution_count": 8,
   "id": "a2b55797-d442-4f3a-8206-9f30d556ba4a",
   "metadata": {
    "colab": {
     "base_uri": "https://localhost:8080/",
     "height": 176
    },
    "id": "a2b55797-d442-4f3a-8206-9f30d556ba4a",
    "outputId": "654430d8-0a19-497e-ddef-6a232626c994"
   },
   "outputs": [],
   "source": [
    "learn.predict(fname)"
   ]
  },
  {
   "cell_type": "code",
   "execution_count": null,
   "id": "d63d64b3-3967-4d0c-a9b7-dca22f3de834",
   "metadata": {
    "id": "d63d64b3-3967-4d0c-a9b7-dca22f3de834"
   },
   "outputs": [],
   "source": [
    "#| hide\n",
    "from IPython.display import Markdown as md\n",
    "def make_definition(word, pos, meaning, example):\n",
    "    html = f'<h4 class=\"anchored\" style=\"color:\n",
    "    html += f'<p style=\"color:\n",
    "    html += f'<p class=\"word-meaning\" style=\"color:\n",
    "    html += f'<p class=\"word-example\" style=\"color:\n",
    "    return md(html)"
   ]
  },
  {
   "cell_type": "code",
   "execution_count": null,
   "id": "767c96d2-5551-4c6a-b987-5f6b704cf77a",
   "metadata": {
    "id": "767c96d2-5551-4c6a-b987-5f6b704cf77a",
    "outputId": "93be0b40-b481-48ee-d7cf-9058b189bc44"
   },
   "outputs": [],
   "source": [
    "#| echo: false\n",
    "make_definition(\"Test DataLoader\", \"noun\", \"A fastai DataLoader which utilizes the validation transforms when sending data through the pipelines\", \"In deployment we utilize test dataloaders )"
   ]
  },
  {
   "cell_type": "code",
   "execution_count": 9,
   "id": "2e8f0866-86d9-42b8-90c7-8e70c7ebcb4a",
   "metadata": {
    "id": "2e8f0866-86d9-42b8-90c7-8e70c7ebcb4a"
   },
   "outputs": [],
   "source": [
    "dl = learn.dls.test_dl([fname])"
   ]
  },
  {
   "cell_type": "code",
   "execution_count": 16,
   "id": "91e31268-f365-46a3-8b20-569fa8ecb83b",
   "metadata": {
    "colab": {
     "base_uri": "https://localhost:8080/",
     "height": 17
    },
    "id": "91e31268-f365-46a3-8b20-569fa8ecb83b",
    "outputId": "54dd6cef-5fcb-47df-e143-b12196623ca5"
   },
   "outputs": [],
   "source": [
    "preds = learn.get_preds(dl=dl)[0]"
   ]
  },
  {
   "cell_type": "code",
   "execution_count": 17,
   "id": "090f3427-9f51-492c-a43b-f6b9a1e5c92e",
   "metadata": {
    "colab": {
     "base_uri": "https://localhost:8080/"
    },
    "id": "090f3427-9f51-492c-a43b-f6b9a1e5c92e",
    "outputId": "2ccd54e1-a674-4898-b9cf-96d8dfaf02db"
   },
   "outputs": [],
   "source": [
    "softmax = preds.softmax(dim=1)\n",
    "argmax = preds.argmax(dim=1)\n",
    "labels = [learn.dls.vocab[pred] for pred in argmax]\n",
    "softmax, argmax, labels"
   ]
  },
  {
   "cell_type": "code",
   "execution_count": 20,
   "id": "1c858747-2240-433e-b97d-02974f7c4e69",
   "metadata": {
    "colab": {
     "base_uri": "https://localhost:8080/",
     "height": 35
    },
    "id": "1c858747-2240-433e-b97d-02974f7c4e69",
    "outputId": "ff01093b-c7d5-46b7-c0d7-50ef813bf82b"
   },
   "outputs": [],
   "source": [
    "%%timeit\n",
    "dl = learn.dls.test_dl([fname])\n",
    "_ = learn.get_preds(dl=dl)"
   ]
  },
  {
   "cell_type": "code",
   "execution_count": 21,
   "id": "25d8977a-c1a4-44a4-91bc-066b91340ddd",
   "metadata": {
    "colab": {
     "base_uri": "https://localhost:8080/",
     "height": 35
    },
    "id": "25d8977a-c1a4-44a4-91bc-066b91340ddd",
    "outputId": "e13201ee-818f-45a8-a483-94b0e0770914"
   },
   "outputs": [],
   "source": [
    "%%timeit\n",
    "_ = learn.predict(fname)"
   ]
  },
  {
   "cell_type": "code",
   "execution_count": 36,
   "id": "lPhjbDVIH2nK",
   "metadata": {
    "colab": {
     "base_uri": "https://localhost:8080/"
    },
    "id": "lPhjbDVIH2nK",
    "outputId": "412221b0-bf2c-48a4-b43b-86dc496e241e"
   },
   "outputs": [],
   "source": [
    "learn.dls.cuda()"
   ]
  },
  {
   "cell_type": "code",
   "execution_count": 40,
   "id": "bs5fGGmXH6Dz",
   "metadata": {
    "colab": {
     "base_uri": "https://localhost:8080/",
     "height": 35
    },
    "id": "bs5fGGmXH6Dz",
    "outputId": "ee952a38-fbe6-4403-bd54-5f517430f2df"
   },
   "outputs": [],
   "source": [
    "%%timeit\n",
    "dl = learn.dls.test_dl([fname])\n",
    "_ = learn.get_preds(dl=dl)"
   ]
  },
  {
   "cell_type": "code",
   "execution_count": 41,
   "id": "y05DiOtOH7fJ",
   "metadata": {
    "colab": {
     "base_uri": "https://localhost:8080/",
     "height": 35
    },
    "id": "y05DiOtOH7fJ",
    "outputId": "7b3c149d-c14e-4af6-abdc-5b93b57c9bde"
   },
   "outputs": [],
   "source": [
    "%%timeit\n",
    "dl = learn.dls.test_dl([fname], num_workers=0)\n",
    "_ = learn.get_preds(dl=dl)"
   ]
  },
  {
   "cell_type": "code",
   "execution_count": null,
   "id": "z5-ifLCnI64w",
   "metadata": {
    "id": "z5-ifLCnI64w"
   },
   "outputs": [],
   "source": []
  }
 ],
 "metadata": {},
 "nbformat": 4,
 "nbformat_minor": 5
}
