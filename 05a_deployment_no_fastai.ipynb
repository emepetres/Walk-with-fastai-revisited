{
 "cells": [
  {
   "cell_type": "code",
   "execution_count": 81,
   "id": "396a4e1c-a5b6-4093-aac3-b42f305a613d",
   "metadata": {},
   "outputs": [],
   "source": [
    "import torch\n",
    "from torch import nn\n",
    "from timm import create_model\n",
    "\n",
    "# For type hinting later on\n",
    "import collections"
   ]
  },
  {
   "cell_type": "code",
   "execution_count": 68,
   "id": "bf18e089-4375-4aa3-8f62-fac603f458f9",
   "metadata": {},
   "outputs": [],
   "source": [
    "net = create_model(\"vit_tiny_patch16_224\", pretrained=False, num_classes=0, in_chans=3)"
   ]
  },
  {
   "cell_type": "code",
   "execution_count": 177,
   "id": "e55b7142-69e6-4182-85f6-893a51dee085",
   "metadata": {},
   "outputs": [],
   "source": [
    "head = nn.Sequential(\n",
    "    nn.BatchNorm1d(192),\n",
    "    nn.Dropout(0.25),\n",
    "    nn.Linear(192, 512, bias=False),\n",
    "    nn.ReLU(inplace=True),\n",
    "    nn.BatchNorm1d(512),\n",
    "    nn.Dropout(0.5),\n",
    "    nn.Linear(512, 37, bias=False)\n",
    ")"
   ]
  },
  {
   "cell_type": "code",
   "execution_count": 178,
   "id": "d6c8c22b-eca7-40d4-97bd-fc28421dad8d",
   "metadata": {},
   "outputs": [],
   "source": [
    "model = nn.Sequential(net, head)"
   ]
  },
  {
   "cell_type": "code",
   "execution_count": 179,
   "id": "d6868944-1498-422e-994e-6fa15fd2136d",
   "metadata": {},
   "outputs": [],
   "source": [
    "state = torch.load(\"models/MyModel.pth\")"
   ]
  },
  {
   "cell_type": "code",
   "execution_count": null,
   "id": "a1dbd956-0d28-45ee-aa5d-33eff1a32b09",
   "metadata": {},
   "outputs": [],
   "source": [
    "model.load_state_dict(state);"
   ]
  },
  {
   "cell_type": "code",
   "execution_count": 145,
   "id": "ba897ed8-1df7-4240-834c-a39d23ddb11d",
   "metadata": {},
   "outputs": [],
   "source": [
    "list(model.state_dict().keys())[:5]"
   ]
  },
  {
   "cell_type": "code",
   "execution_count": 146,
   "id": "25b5f1e0-5605-49ff-8405-d929f102ce7d",
   "metadata": {},
   "outputs": [],
   "source": [
    "list(state.keys())[:5]"
   ]
  },
  {
   "cell_type": "code",
   "execution_count": 180,
   "id": "ab5099e3-8379-4946-85a3-aeb672489e08",
   "metadata": {},
   "outputs": [],
   "source": [
    "def copy_weight(name, parameter, state_dict):\n",
    "    \"\"\"\n",
    "    Takes in a layer `name`, model `parameter`, and `state_dict`\n",
    "    and loads the weights from `state_dict` into `parameter`\n",
    "    if it exists.\n",
    "    \"\"\"\n",
    "   \n",
    "    if name[0] == \"0\":\n",
    "        name = name[:2] + \"model.\" + name[2:]\n",
    "    if name in state_dict.keys():\n",
    "        input_parameter = state_dict[name]\n",
    "        if input_parameter.shape == parameter.shape:\n",
    "            parameter.copy_(input_parameter)\n",
    "        else:\n",
    "            print(f'Shape mismatch at layer: {name}, skipping')\n",
    "    else:\n",
    "        print(f'{name} is not in the state_dict, skipping.')"
   ]
  },
  {
   "cell_type": "code",
   "execution_count": 181,
   "id": "23ec54c5-4d27-43ac-aaf0-00eae7b18fa8",
   "metadata": {},
   "outputs": [],
   "source": [
    "def apply_weights(input_model:nn.Module, input_weights:collections.OrderedDict, application_function:callable):\n",
    "    \"\"\"\n",
    "    Takes an input state_dict and applies those weights to the `input_model`, potentially \n",
    "    with a modifier function.\n",
    "    \n",
    "    Args:\n",
    "        input_model (`nn.Module`):\n",
    "            The model that weights should be applied to\n",
    "        input_weights (`collections.OrderedDict`):\n",
    "            A dictionary of weights, the trained model's `state_dict()`\n",
    "        application_function (`callable`):\n",
    "            A function that takes in one parameter and layer name from `input_model`\n",
    "            and the `input_weights`. Should apply the weights from the state dict into `input_model`.\n",
    "    \"\"\"\n",
    "    model_dict = input_model.state_dict()\n",
    "    for name, parameter in model_dict.items():\n",
    "        application_function(name, parameter, input_weights)\n",
    "    input_model.load_state_dict(model_dict)"
   ]
  },
  {
   "cell_type": "code",
   "execution_count": 182,
   "id": "5c884993-cb52-412e-9cad-8d1b9dfff70c",
   "metadata": {},
   "outputs": [],
   "source": [
    "apply_weights(model, state, copy_weight)"
   ]
  },
  {
   "cell_type": "code",
   "execution_count": null,
   "id": "c2bd39bb-a631-43df-ba4f-d4382461f540",
   "metadata": {},
   "outputs": [],
   "source": []
  }
 ],
 "metadata": {},
 "nbformat": 4,
 "nbformat_minor": 5
}
