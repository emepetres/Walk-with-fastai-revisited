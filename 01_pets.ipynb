{
 "cells": [
  {
   "cell_type": "code",
   "execution_count": null,
   "id": "0ddeef59-1445-4d52-875f-543c628432df",
   "metadata": {},
   "outputs": [],
   "source": [
    "from fastai.vision.all import *"
   ]
  },
  {
   "cell_type": "code",
   "execution_count": null,
   "id": "eb717c67-3114-43ee-82fe-239b12673dc8",
   "metadata": {},
   "outputs": [],
   "source": [
    "help(untar_data)"
   ]
  },
  {
   "cell_type": "code",
   "execution_count": null,
   "id": "592d756d-fbfb-4038-85a5-03e2bd882dd7",
   "metadata": {},
   "outputs": [],
   "source": [
    "from nbdev.showdoc import show_doc\n",
    "show_doc(untar_data)"
   ]
  },
  {
   "cell_type": "code",
   "execution_count": null,
   "id": "a4ef5035-6183-4135-aa69-22fe0ee7044d",
   "metadata": {},
   "outputs": [],
   "source": [
    "path = untar_data(URLs.PETS)"
   ]
  },
  {
   "cell_type": "code",
   "execution_count": null,
   "id": "06443102-05a9-4bcd-a3af-8074d2ef725c",
   "metadata": {},
   "outputs": [],
   "source": [
    "set_seed(42)"
   ]
  },
  {
   "cell_type": "code",
   "execution_count": null,
   "id": "54fe5b92-d8bb-4e50-ba48-ee436187d235",
   "metadata": {},
   "outputs": [],
   "source": [
    "path.ls()[:3]"
   ]
  },
  {
   "cell_type": "code",
   "execution_count": null,
   "id": "dd0ce209-0d20-440f-aed9-11ba68a4f933",
   "metadata": {},
   "outputs": [],
   "source": [
    "(path/'images').ls()[:3]"
   ]
  },
  {
   "cell_type": "code",
   "execution_count": null,
   "id": "35083bfc-5681-412b-840f-33760169e28f",
   "metadata": {},
   "outputs": [],
   "source": [
    "path = untar_data(URLs.PETS)\n",
    "fnames = get_image_files(path/'images')\n",
    "pat = r'(.+)_\\d+.jpg$'"
   ]
  },
  {
   "cell_type": "code",
   "execution_count": null,
   "id": "3816443d-65ff-4cd6-8293-f69c8de4045f",
   "metadata": {},
   "outputs": [],
   "source": [
    "item_tfms = RandomResizedCrop(460, min_scale=0.75, ratio=(1.,1.))\n",
    "batch_tfms = [*aug_transforms(size=224, max_warp=0), Normalize.from_stats(*imagenet_stats)]\n",
    "bs=64"
   ]
  },
  {
   "cell_type": "code",
   "execution_count": null,
   "id": "01ea79c0-b968-45d7-a472-2225d98f859b",
   "metadata": {},
   "outputs": [],
   "source": [
    "dls = ImageDataLoaders.from_name_re(\n",
    "    path,\n",
    "    fnames,\n",
    "    pat,\n",
    "    item_tfms=item_tfms,\n",
    "    batch_tfms=batch_tfms,\n",
    "    bs=bs\n",
    ")"
   ]
  },
  {
   "cell_type": "code",
   "execution_count": null,
   "id": "4579aab8-303e-4173-ad79-5e24b0ab1a90",
   "metadata": {},
   "outputs": [],
   "source": [
    "pets = DataBlock(blocks=(ImageBlock, CategoryBlock),\n",
    "                 get_items=get_image_files,\n",
    "                 splitter=RandomSplitter(),\n",
    "                 get_y=RegexLabeller(pat = r'/([^/]+)_\\d+.*'),\n",
    "                 item_tfms=item_tfms,\n",
    "                 batch_tfms=batch_tfms)"
   ]
  },
  {
   "cell_type": "code",
   "execution_count": null,
   "id": "0dfed758-8c36-49e8-9598-cd1040c929b8",
   "metadata": {},
   "outputs": [],
   "source": [
    "path_im = path/'images'"
   ]
  },
  {
   "cell_type": "code",
   "execution_count": null,
   "id": "6aa8e7ba-b45f-44e0-bfbc-304af3d17fac",
   "metadata": {},
   "outputs": [],
   "source": [
    "dls = pets.dataloaders(path_im, bs=bs)"
   ]
  },
  {
   "cell_type": "code",
   "execution_count": null,
   "id": "d1a1f794-8ec9-4df9-99d1-8e9964ebcf5b",
   "metadata": {},
   "outputs": [],
   "source": [
    "dls.show_batch(max_n=9, figsize=(6,7))"
   ]
  },
  {
   "cell_type": "code",
   "execution_count": null,
   "id": "ad13ee4a-8c18-4499-9999-b410d222259a",
   "metadata": {},
   "outputs": [],
   "source": [
    "dls.vocab"
   ]
  },
  {
   "cell_type": "code",
   "execution_count": null,
   "id": "8cc90173-44db-4ad4-be58-5693be5a5462",
   "metadata": {},
   "outputs": [],
   "source": [
    "dls.vocab.o2i"
   ]
  },
  {
   "cell_type": "code",
   "execution_count": null,
   "id": "37e9408e-c32d-4de3-8cb0-6bbeb3511a23",
   "metadata": {},
   "outputs": [],
   "source": [
    "learn = cnn_learner(dls, resnet34, metrics=error_rate)"
   ]
  },
  {
   "cell_type": "code",
   "execution_count": null,
   "id": "68bb7b80-9193-4880-952b-03747a40c755",
   "metadata": {},
   "outputs": [],
   "source": [
    "learn.fit_one_cycle(4)"
   ]
  },
  {
   "cell_type": "code",
   "execution_count": null,
   "id": "2f2877e3-c4bc-485c-97a5-47d31ebb9abe",
   "metadata": {},
   "outputs": [],
   "source": [
    "learn.save('stage_1')"
   ]
  },
  {
   "cell_type": "code",
   "execution_count": null,
   "id": "01f833bc-e1b3-4cc9-8239-25a7caa5425b",
   "metadata": {},
   "outputs": [],
   "source": [
    "interp = ClassificationInterpretation.from_learner(learn)"
   ]
  },
  {
   "cell_type": "code",
   "execution_count": null,
   "id": "929e1699-1008-49e6-bb7d-be9a67efebf4",
   "metadata": {},
   "outputs": [],
   "source": [
    "interp.plot_top_losses(9, figsize=(15,10))"
   ]
  },
  {
   "cell_type": "code",
   "execution_count": null,
   "id": "61d949f4-8c71-43e5-9587-27558d228539",
   "metadata": {},
   "outputs": [],
   "source": [
    "interp.plot_confusion_matrix(figsize=(12,12), dpi=60)"
   ]
  },
  {
   "cell_type": "code",
   "execution_count": null,
   "id": "923fae43-578e-4aeb-98d3-fd3fb81397ee",
   "metadata": {},
   "outputs": [],
   "source": [
    "interp.most_confused(min_val=3)"
   ]
  },
  {
   "cell_type": "code",
   "execution_count": null,
   "id": "6a89a4ce-8c64-4899-a0e7-37af05907ecc",
   "metadata": {},
   "outputs": [],
   "source": [
    "learn.load('stage_1');"
   ]
  },
  {
   "cell_type": "code",
   "execution_count": null,
   "id": "e6bb0cfa-106a-4ea5-9094-2d0ebafe51a2",
   "metadata": {},
   "outputs": [],
   "source": [
    "learn.unfreeze()"
   ]
  },
  {
   "cell_type": "code",
   "execution_count": null,
   "id": "62efbf4a-5ffb-417e-833a-26e18e97f5e4",
   "metadata": {},
   "outputs": [],
   "source": [
    "learn.lr_find()"
   ]
  },
  {
   "cell_type": "code",
   "execution_count": null,
   "id": "069933fa-406a-47a1-8f3d-68c0eacdac5b",
   "metadata": {},
   "outputs": [],
   "source": [
    "learn.fit_one_cycle(4, lr_max=slice(1e-6, 1e-4))"
   ]
  },
  {
   "cell_type": "code",
   "execution_count": null,
   "id": "176664f0-d83c-418b-b073-f2e5410b5e38",
   "metadata": {},
   "outputs": [],
   "source": [
    "learn.save('stage_2')"
   ]
  }
 ],
 "metadata": {},
 "nbformat": 4,
 "nbformat_minor": 5
}
