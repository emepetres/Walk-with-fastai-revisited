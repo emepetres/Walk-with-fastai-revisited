{
 "cells": [
  {
   "cell_type": "code",
   "execution_count": 1,
   "id": "09da2d67-cfa2-4c28-9cd6-7b81acb2c59a",
   "metadata": {},
   "outputs": [],
   "source": [
    "from fastcore.basics import store_attr\n",
    "class A:\n",
    "    def __init__(self, b, c):\n",
    "        store_attr()\n",
    "\n",
    "# Check they exist\n",
    "a = A(1,2)\n",
    "assert a.b == 1\n",
    "assert a.c == 2"
   ]
  },
  {
   "cell_type": "code",
   "execution_count": 5,
   "id": "31d9e12f-9920-4f68-8dd7-dfd5941edd59",
   "metadata": {},
   "outputs": [],
   "source": [
    "from fastcore.foundation import L\n",
    "\n",
    "my_list = L(1,2,3,3)"
   ]
  },
  {
   "cell_type": "code",
   "execution_count": 6,
   "id": "bdb0df52-9921-4c34-ab78-b8fd842c1de7",
   "metadata": {},
   "outputs": [
    {
     "data": {
      "text/plain": [
       "(#4) [2,3,4,4]"
      ]
     },
     "execution_count": 6,
     "metadata": {},
     "output_type": "execute_result"
    }
   ],
   "source": [
    "my_list.map(lambda x: x+1)"
   ]
  },
  {
   "cell_type": "code",
   "execution_count": 7,
   "id": "b4d28532-7101-4f08-9318-1bc4cf5f498b",
   "metadata": {},
   "outputs": [
    {
     "data": {
      "text/plain": [
       "2"
      ]
     },
     "execution_count": 7,
     "metadata": {},
     "output_type": "execute_result"
    }
   ],
   "source": [
    "my_list.count(3)"
   ]
  },
  {
   "cell_type": "code",
   "execution_count": 10,
   "id": "c40b1b91-a676-45cd-a18d-8280589420f5",
   "metadata": {},
   "outputs": [
    {
     "data": {
      "text/plain": [
       "9"
      ]
     },
     "execution_count": 10,
     "metadata": {},
     "output_type": "execute_result"
    }
   ],
   "source": [
    "my_list.sum()"
   ]
  },
  {
   "cell_type": "code",
   "execution_count": 24,
   "id": "24504d00-f231-47ab-8ee2-a91cd8f7cf15",
   "metadata": {},
   "outputs": [
    {
     "data": {
      "text/plain": [
       "(0, 0, 0)"
      ]
     },
     "execution_count": 24,
     "metadata": {},
     "output_type": "execute_result"
    }
   ],
   "source": [
    "from fastcore.basics import AttrDict\n",
    "from fastcore.xtras import dict2obj, obj2dict\n",
    "\n",
    "o = {\"a\":0, \"b\":1, \"c\":2}\n",
    "o_obj = dict2obj(o)\n",
    "o_dict = obj2dict(o_obj)\n",
    "\n",
    "o[\"a\"], o_obj.a, o_obj[\"a\"]"
   ]
  },
  {
   "cell_type": "code",
   "execution_count": 25,
   "id": "573372f1-53aa-4a38-8fe2-82ba9aad08bc",
   "metadata": {},
   "outputs": [
    {
     "data": {
      "text/plain": [
       "(dict, fastcore.basics.AttrDict, dict)"
      ]
     },
     "execution_count": 25,
     "metadata": {},
     "output_type": "execute_result"
    }
   ],
   "source": [
    "type(o), type(o_obj), type(o_dict)"
   ]
  },
  {
   "cell_type": "code",
   "execution_count": 12,
   "id": "9cd1c947-cb78-4e5e-88e0-9dd1976bf6d8",
   "metadata": {},
   "outputs": [
    {
     "data": {
      "text/plain": [
       "True"
      ]
     },
     "execution_count": 12,
     "metadata": {},
     "output_type": "execute_result"
    }
   ],
   "source": [
    "import fastcore.test as fasttest\n",
    "\n",
    "fasttest.equals(0,0)"
   ]
  },
  {
   "cell_type": "code",
   "execution_count": 15,
   "id": "581377a6-ff79-4435-b22e-dd288ea71a81",
   "metadata": {},
   "outputs": [],
   "source": [
    "from fastcore.dispatch import typedispatch\n",
    "\n",
    "@typedispatch\n",
    "def my_transform(value:int):\n",
    "    print(\"Passed an `int`!\")\n",
    "\n",
    "@typedispatch\n",
    "def my_transform(value:str):\n",
    "    print(\"Passed a `str`!\")\n",
    "\n",
    "@typedispatch\n",
    "def my_transform(value:bool):\n",
    "    print(\"Passed a `bool`!\")"
   ]
  },
  {
   "cell_type": "code",
   "execution_count": 16,
   "id": "8517965c-daaa-4e1a-9f57-8fda501007df",
   "metadata": {},
   "outputs": [
    {
     "name": "stdout",
     "output_type": "stream",
     "text": [
      "Passed an `int`!\n"
     ]
    }
   ],
   "source": [
    "my_transform(1)"
   ]
  },
  {
   "cell_type": "code",
   "execution_count": 17,
   "id": "b7e68412-40c7-49b5-8f65-978864a33fba",
   "metadata": {},
   "outputs": [
    {
     "name": "stdout",
     "output_type": "stream",
     "text": [
      "Passed a `str`!\n"
     ]
    }
   ],
   "source": [
    "my_transform(\"Hi!\")"
   ]
  },
  {
   "cell_type": "code",
   "execution_count": 18,
   "id": "ea2c7e56-5b97-408e-a127-36eb1396deea",
   "metadata": {},
   "outputs": [
    {
     "name": "stdout",
     "output_type": "stream",
     "text": [
      "Passed a `bool`!\n"
     ]
    }
   ],
   "source": [
    "my_transform(False)"
   ]
  },
  {
   "cell_type": "code",
   "execution_count": 27,
   "id": "ee6a9720-9d40-4bd6-a3b9-054cb6a76723",
   "metadata": {},
   "outputs": [
    {
     "data": {
      "text/plain": [
       "[2, 3, 4]"
      ]
     },
     "execution_count": 27,
     "metadata": {},
     "output_type": "execute_result"
    }
   ],
   "source": [
    "from fastai.torch_core import apply\n",
    "\n",
    "o = [1,2,3]\n",
    "apply(lambda x: x+1, o)"
   ]
  },
  {
   "cell_type": "code",
   "execution_count": 29,
   "id": "f893e16c-999b-4ace-b3dc-2595a913a0a2",
   "metadata": {},
   "outputs": [
    {
     "data": {
      "text/plain": [
       "[1, 2, 3, 4, 5, 6]"
      ]
     },
     "execution_count": 29,
     "metadata": {},
     "output_type": "execute_result"
    }
   ],
   "source": [
    "from fastai.torch_core import concat\n",
    "\n",
    "concat([1,2,3], (4, 5), 6)"
   ]
  },
  {
   "cell_type": "code",
   "execution_count": 31,
   "id": "719e3436-9d20-4d1e-af2e-f12d8537a284",
   "metadata": {},
   "outputs": [
    {
     "data": {
      "text/plain": [
       "64"
      ]
     },
     "execution_count": 31,
     "metadata": {},
     "output_type": "execute_result"
    }
   ],
   "source": [
    "from fastai.torch_core import find_bs\n",
    "import torch\n",
    "\n",
    "t = torch.rand(64, 3, 224,224)\n",
    "find_bs(t)"
   ]
  },
  {
   "cell_type": "code",
   "execution_count": 32,
   "id": "4c1c0a15-0d0c-48b3-b00f-a551cc5c9a3a",
   "metadata": {},
   "outputs": [],
   "source": [
    "from fastai.torch_core import Module\n",
    "\n",
    "class MyLayer(Module):\n",
    "    def __init__(self, arg1):\n",
    "        self.arg1 = arg1"
   ]
  },
  {
   "cell_type": "code",
   "execution_count": null,
   "id": "9ca1822f-6819-4548-adfc-89b5c40a5c2a",
   "metadata": {},
   "outputs": [],
   "source": []
  }
 ],
 "metadata": {},
 "nbformat": 4,
 "nbformat_minor": 5
}
