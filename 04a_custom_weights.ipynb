{
 "cells": [
  {
   "cell_type": "code",
   "execution_count": null,
   "id": "7a5c0c7b-5a9e-4957-a943-fee098749aef",
   "metadata": {},
   "outputs": [],
   "source": [
    "from fastai.vision.all import *"
   ]
  },
  {
   "cell_type": "code",
   "execution_count": null,
   "id": "f53849ec-071d-4721-8012-84225b52c586",
   "metadata": {},
   "outputs": [],
   "source": [
    "path = untar_data(URLs.PETS)/'images'\n",
    "fnames = get_image_files(path)\n",
    "pat = r'/([^/]+)_\\d+.*'\n",
    "batch_tfms = [*aug_transforms(size=224, max_warp=0), Normalize.from_stats(*imagenet_stats)]\n",
    "item_tfms = RandomResizedCrop(460, min_scale=0.75, ratio=(1.,1.))\n",
    "bs=64\n",
    "\n",
    "pets = DataBlock(\n",
    "    blocks=(ImageBlock, CategoryBlock),\n",
    "     get_items=get_image_files,\n",
    "     splitter=RandomSplitter(),\n",
    "     get_y=RegexLabeller(pat = r'/([^/]+)_\\d+.*'),\n",
    "     item_tfms=item_tfms,\n",
    "     batch_tfms=batch_tfms\n",
    ")\n",
    "dls = pets.dataloaders(path, bs=bs)"
   ]
  },
  {
   "cell_type": "code",
   "execution_count": null,
   "id": "6a1f5509-418f-4b86-8d26-a90b99806aed",
   "metadata": {},
   "outputs": [],
   "source": [
    "!pip install timm >> /dev/null"
   ]
  },
  {
   "cell_type": "code",
   "execution_count": null,
   "id": "54b463db-543b-4b72-a4f7-3b046f302a53",
   "metadata": {},
   "outputs": [],
   "source": [
    "from timm import create_model\n",
    "net = create_model(\"vit_tiny_patch16_224\", pretrained=True)"
   ]
  },
  {
   "cell_type": "code",
   "execution_count": null,
   "id": "57af3310-ec5f-4917-829c-d81f073f701f",
   "metadata": {},
   "outputs": [],
   "source": [
    "learn = vision_learner(dls, models.resnet18)"
   ]
  },
  {
   "cell_type": "code",
   "execution_count": null,
   "id": "2bff56a6-a3dc-4537-9ddf-571634844b46",
   "metadata": {},
   "outputs": [],
   "source": [
    "#| hide\n",
    "from IPython.display import Markdown as md\n",
    "def make_definition(word, pos, meaning, example):\n",
    "    html = f'<h4 class=\"anchored\" style=\"color:\n",
    "    html += f'<p style=\"color:\n",
    "    html += f'<p class=\"word-meaning\" style=\"color:\n",
    "    html += f'<p class=\"word-example\" style=\"color:\n",
    "    return md(html)"
   ]
  },
  {
   "cell_type": "code",
   "execution_count": null,
   "id": "2f39e095-5c54-4e04-862f-be93818c7cf1",
   "metadata": {},
   "outputs": [],
   "source": [
    "#| echo: false\n",
    "make_definition(\"body\", \"noun\", \"The backbone of a neural network, typically pretrained\", \"The body of a Resnet 34 model\")"
   ]
  },
  {
   "cell_type": "code",
   "execution_count": null,
   "id": "9ab97e57-f696-4870-ad9f-dde21e1fb439",
   "metadata": {},
   "outputs": [],
   "source": [
    "#| echo: false\n",
    "make_definition(\n",
    "    \"head\", \"noun\", \n",
    "    \"The last, or last few, layers of a neural network; typically consists of everything after the final pooling layer\",\n",
    "    \"Predictions from the model are the outputs from the head of the network\"\n",
    ")"
   ]
  },
  {
   "cell_type": "code",
   "execution_count": null,
   "id": "9485cdc4-7a59-4c0e-9132-3e58846a0e01",
   "metadata": {},
   "outputs": [],
   "source": [
    "learn.model[-1]"
   ]
  },
  {
   "cell_type": "code",
   "execution_count": null,
   "id": "37c0a746-befa-4b3e-a01b-efbed1769935",
   "metadata": {},
   "outputs": [],
   "source": [
    "net[-1]"
   ]
  },
  {
   "cell_type": "code",
   "execution_count": null,
   "id": "2bb8d847-408b-47e2-bba5-f2a6bf23ab86",
   "metadata": {},
   "outputs": [],
   "source": [
    "len(learn.model)"
   ]
  },
  {
   "cell_type": "code",
   "execution_count": null,
   "id": "0f762dcf-4d71-4fcb-a0c2-5e6fd1c9ca9c",
   "metadata": {},
   "outputs": [],
   "source": [
    "len(net)"
   ]
  },
  {
   "cell_type": "code",
   "execution_count": null,
   "id": "6061994e-1a94-49b5-b9d9-4a007c28e09f",
   "metadata": {},
   "outputs": [],
   "source": [
    "class MyModel(nn.Module):\n",
    "    def __init__(self):\n",
    "        self.l1 = nn.Linear(1,1)\n",
    "        self.l2 = nn.linear(1,1)\n",
    "    def forward(self, x):\n",
    "        return self.l2(self.l1(x))"
   ]
  },
  {
   "cell_type": "code",
   "execution_count": null,
   "id": "905cb189-5a4d-4fef-b0cd-db85e1109ac2",
   "metadata": {},
   "outputs": [],
   "source": [
    "class MyModel(nn.Sequential):\n",
    "    def __init__(self):\n",
    "        layers = [\n",
    "            nn.Linear(1,1),\n",
    "            nn.Linear(1,1),\n",
    "        ]\n",
    "        super().__init__(*layers)"
   ]
  },
  {
   "cell_type": "code",
   "execution_count": null,
   "id": "8aec2400-819d-4225-8745-7c865217f857",
   "metadata": {},
   "outputs": [],
   "source": [
    "net = MyModel()\n",
    "net[0], net[1]"
   ]
  },
  {
   "cell_type": "code",
   "execution_count": null,
   "id": "736a04d6-e999-4a03-8f81-5bf3e9f83009",
   "metadata": {},
   "outputs": [],
   "source": [
    "def custom_cut_model(model:nn.Module, cut:typing.Union[int, typing.Callable]):\n",
    "    \"\"\"\n",
    "    Cuts `model` into an `nn.Sequential` based on `cut`. \n",
    "    \"\"\"\n",
    "    if isinstance(cut, int):\n",
    "        return nn.Sequential(*list(model.children())[:cut])\n",
    "    elif callable(cut):\n",
    "        return cut(model)\n",
    "    else:\n",
    "        raise NameError(\"`cut` must either be an integer or a function\")"
   ]
  },
  {
   "cell_type": "code",
   "execution_count": null,
   "id": "59a6edbe-0579-456b-a0d8-9d418957f796",
   "metadata": {},
   "outputs": [],
   "source": [
    "class CustomTimmBody(nn.Module):\n",
    "    \"\"\"\n",
    "    A small submodule to work with `timm` models more easily\n",
    "    \"\"\"\n",
    "    def __init__(\n",
    "        self, \n",
    "        model, \n",
    "        pretrained:bool=True, \n",
    "        cut=None, \n",
    "        n_in:int=3\n",
    "    ):\n",
    "        super().__init__()\n",
    "        self.needs_pooling = model.default_cfg.get('pool_size', None)\n",
    "        if cut is None:\n",
    "            self.model = model\n",
    "        else:\n",
    "            self.model = custom_cut_model(model, cut)\n",
    "    \n",
    "    def forward(self, x): \n",
    "        if self.needs_pooling:\n",
    "            return self.model.forward_features(x)\n",
    "        else:\n",
    "            return self.model(x)"
   ]
  },
  {
   "cell_type": "code",
   "execution_count": null,
   "id": "ec72cb40-b963-4558-8fde-b3b7e87d601b",
   "metadata": {},
   "outputs": [],
   "source": [
    "body = CustomTimmBody(\n",
    "    create_model(\"vit_tiny_patch16_224\", pretrained=True, num_classes=0, in_chans=3)\n",
    ").train()"
   ]
  },
  {
   "cell_type": "code",
   "execution_count": null,
   "id": "8e3c549f-0abc-4f7a-9b98-52d6d36feec1",
   "metadata": {},
   "outputs": [],
   "source": [
    "head = create_head(body.model.num_features, dls.c, pool=None)"
   ]
  },
  {
   "cell_type": "code",
   "execution_count": null,
   "id": "7341eedb-6249-43be-b11c-f51aa7454166",
   "metadata": {},
   "outputs": [],
   "source": [
    "head"
   ]
  },
  {
   "cell_type": "code",
   "execution_count": null,
   "id": "c2cfe3dc-5db0-442f-858c-4fbc167391b8",
   "metadata": {},
   "outputs": [],
   "source": [
    "x = torch.randn(2,3,224,224)"
   ]
  },
  {
   "cell_type": "code",
   "execution_count": null,
   "id": "e569fb07-fc24-4d9a-84a2-35aaaef227f5",
   "metadata": {},
   "outputs": [],
   "source": [
    "out = head(body(x))\n",
    "out, out.shape"
   ]
  },
  {
   "cell_type": "code",
   "execution_count": null,
   "id": "cfa5b80b-9a96-43fd-8c26-0f4c53105453",
   "metadata": {},
   "outputs": [],
   "source": [
    "apply_init?"
   ]
  },
  {
   "cell_type": "code",
   "execution_count": null,
   "id": "fce78840-d9d1-4129-ad42-5047c4f6d95c",
   "metadata": {},
   "outputs": [],
   "source": [
    "apply_init(head)"
   ]
  },
  {
   "cell_type": "code",
   "execution_count": null,
   "id": "69a98b76-91ff-4c2a-a3dd-84f3c129f6f4",
   "metadata": {},
   "outputs": [],
   "source": [
    "head(body(x))"
   ]
  },
  {
   "cell_type": "code",
   "execution_count": null,
   "id": "81db5b13-b7aa-4b11-a1cc-bcf6aa3ee3f1",
   "metadata": {},
   "outputs": [],
   "source": [
    "#| echo: false\n",
    "make_definition(\"split\", \"adjective\", \"An arrangement of groups of layers by some criteria\", \"The model was split between the body and the head\")"
   ]
  },
  {
   "cell_type": "code",
   "execution_count": null,
   "id": "199222f3-c9dc-429a-89d4-344dd54e064c",
   "metadata": {},
   "outputs": [],
   "source": [
    "#| echo: false\n",
    "make_definition(\"freeze\", \"verb\", \"To make certain layers of a model untrainable\", \"We froze the backbone of the pretrained model, but not the head\")"
   ]
  },
  {
   "cell_type": "code",
   "execution_count": null,
   "id": "44ff7136-c3f3-4464-951b-1bb1f189bed5",
   "metadata": {},
   "outputs": [],
   "source": [
    "def my_split_func(model:nn.Module):\n",
    "    \"A function that splits layers by their parameters\"\n",
    "    return L(model[0], model[1:]).map(params)"
   ]
  },
  {
   "cell_type": "code",
   "execution_count": null,
   "id": "3e7a18a8-8cbc-4f9f-8680-18e321e54c82",
   "metadata": {},
   "outputs": [],
   "source": [
    "def splitter(model):\n",
    "    \"Splits a model by head and body\"\n",
    "    return L(model[0], model[1]).map(params)"
   ]
  },
  {
   "cell_type": "code",
   "execution_count": null,
   "id": "384fde99-5b09-435a-9b08-b4b9e2534e56",
   "metadata": {},
   "outputs": [],
   "source": [
    "learn = Learner(\n",
    "    dls,\n",
    "    nn.Sequential(body, head),\n",
    "    splitter=splitter\n",
    ")"
   ]
  },
  {
   "cell_type": "code",
   "execution_count": null,
   "id": "0300c6e8-4f5a-4862-8fac-1a37070f8892",
   "metadata": {},
   "outputs": [],
   "source": [
    "print(learn.summary()[-250:])"
   ]
  },
  {
   "cell_type": "code",
   "execution_count": null,
   "id": "cb25c1f5-142d-46ef-8070-2227ec83de91",
   "metadata": {},
   "outputs": [],
   "source": [
    "learn.freeze()"
   ]
  },
  {
   "cell_type": "code",
   "execution_count": null,
   "id": "04d17ea6-b1a2-4bb9-9917-87e49aa26fc1",
   "metadata": {},
   "outputs": [],
   "source": [
    "print(learn.summary()[-295:])"
   ]
  },
  {
   "cell_type": "code",
   "execution_count": null,
   "id": "21379796-a099-4c01-9ada-97e5a56271e0",
   "metadata": {},
   "outputs": [],
   "source": []
  }
 ],
 "metadata": {},
 "nbformat": 4,
 "nbformat_minor": 5
}
