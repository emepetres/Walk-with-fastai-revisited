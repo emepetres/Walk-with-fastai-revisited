{
 "cells": [
  {
   "cell_type": "code",
   "execution_count": null,
   "id": "7a5c0c7b-5a9e-4957-a943-fee098749aef",
   "metadata": {},
   "outputs": [],
   "source": [
    "from fastai.vision.all import *"
   ]
  },
  {
   "cell_type": "code",
   "execution_count": null,
   "id": "f53849ec-071d-4721-8012-84225b52c586",
   "metadata": {},
   "outputs": [
    {
     "data": {
      "text/html": [
       "\n",
       "<style>\n",
       "    /* Turns off some styling */\n",
       "    progress {\n",
       "        /* gets rid of default border in Firefox and Opera. */\n",
       "        border: none;\n",
       "        /* Needs to be in here for Safari polyfill so background images work as expected. */\n",
       "        background-size: auto;\n",
       "    }\n",
       "    progress:not([value]), progress:not([value])::-webkit-progress-bar {\n",
       "        background: repeating-linear-gradient(45deg, #7e7e7e, #7e7e7e 10px, #5c5c5c 10px, #5c5c5c 20px);\n",
       "    }\n",
       "    .progress-bar-interrupted, .progress-bar-interrupted::-webkit-progress-bar {\n",
       "        background: #F44336;\n",
       "    }\n",
       "</style>\n"
      ],
      "text/plain": [
       "<IPython.core.display.HTML object>"
      ]
     },
     "metadata": {},
     "output_type": "display_data"
    },
    {
     "data": {
      "text/html": [
       "\n",
       "    <div>\n",
       "      <progress value='811712512' class='' max='811706944' style='width:300px; height:20px; vertical-align: middle;'></progress>\n",
       "      100.00% [811712512/811706944 02:14&lt;00:00]\n",
       "    </div>\n",
       "    "
      ],
      "text/plain": [
       "<IPython.core.display.HTML object>"
      ]
     },
     "metadata": {},
     "output_type": "display_data"
    }
   ],
   "source": [
    "path = untar_data(URLs.PETS)/'images'\n",
    "fnames = get_image_files(path)\n",
    "pat = r'/([^/]+)_\\d+.*'\n",
    "batch_tfms = [*aug_transforms(size=224, max_warp=0), Normalize.from_stats(*imagenet_stats)]\n",
    "item_tfms = RandomResizedCrop(460, min_scale=0.75, ratio=(1.,1.))\n",
    "bs=64\n",
    "\n",
    "pets = DataBlock(\n",
    "    blocks=(ImageBlock, CategoryBlock),\n",
    "     get_items=get_image_files,\n",
    "     splitter=RandomSplitter(),\n",
    "     get_y=RegexLabeller(pat = r'/([^/]+)_\\d+.*'),\n",
    "     item_tfms=item_tfms,\n",
    "     batch_tfms=batch_tfms\n",
    ")\n",
    "dls = pets.dataloaders(path, bs=bs)"
   ]
  },
  {
   "cell_type": "code",
   "execution_count": null,
   "id": "6a1f5509-418f-4b86-8d26-a90b99806aed",
   "metadata": {},
   "outputs": [],
   "source": [
    "!pip install timm >> /dev/null"
   ]
  },
  {
   "cell_type": "code",
   "execution_count": null,
   "id": "54b463db-543b-4b72-a4f7-3b046f302a53",
   "metadata": {},
   "outputs": [],
   "source": [
    "from timm import create_model\n",
    "net = create_model(\"vit_tiny_patch16_224\", pretrained=True)"
   ]
  },
  {
   "cell_type": "code",
   "execution_count": null,
   "id": "57af3310-ec5f-4917-829c-d81f073f701f",
   "metadata": {},
   "outputs": [],
   "source": [
    "learn = vision_learner(dls, models.resnet18)"
   ]
  },
  {
   "cell_type": "code",
   "execution_count": null,
   "id": "2bff56a6-a3dc-4537-9ddf-571634844b46",
   "metadata": {},
   "outputs": [],
   "source": [
    "#| hide\n",
    "from IPython.display import Markdown as md\n",
    "def make_definition(word, pos, meaning, example):\n",
    "    html = f'<h4 class=\"anchored\" style=\"color: #1f194c; display: flex; justify-content: space-between; margin-top: 20px;\">{word}</h4>'\n",
    "    html += f'<p style=\"color: #575a7b;\">{pos}</p>'\n",
    "    html += f'<p class=\"word-meaning\" style=\"color: #575a7b;\">{meaning}</p>'\n",
    "    html += f'<p class=\"word-example\" style=\"color: #575a7b; font-style: italic; border-left: 5px solid #3fb618; padding-left: 20px; margin-top: 30px;\">{example}</p>'\n",
    "    return md(html)"
   ]
  },
  {
   "cell_type": "code",
   "execution_count": null,
   "id": "2f39e095-5c54-4e04-862f-be93818c7cf1",
   "metadata": {},
   "outputs": [
    {
     "data": {
      "text/markdown": [
       "<h4 class=\"anchored\" style=\"color: #1f194c; display: flex; justify-content: space-between; margin-top: 20px;\">body</h4><p style=\"color: #575a7b;\">noun</p><p class=\"word-meaning\" style=\"color: #575a7b;\">The backbone of a neural network, typically pretrained</p><p class=\"word-example\" style=\"color: #575a7b; font-style: italic; border-left: 5px solid #3fb618; padding-left: 20px; margin-top: 30px;\">The body of a Resnet 34 model</p>"
      ],
      "text/plain": [
       "<IPython.core.display.Markdown object>"
      ]
     },
     "execution_count": null,
     "metadata": {},
     "output_type": "execute_result"
    }
   ],
   "source": [
    "#| echo: false\n",
    "make_definition(\"body\", \"noun\", \"The backbone of a neural network, typically pretrained\", \"The body of a Resnet 34 model\")"
   ]
  },
  {
   "cell_type": "code",
   "execution_count": null,
   "id": "9ab97e57-f696-4870-ad9f-dde21e1fb439",
   "metadata": {},
   "outputs": [
    {
     "data": {
      "text/markdown": [
       "<h4 class=\"anchored\" style=\"color: #1f194c; display: flex; justify-content: space-between; margin-top: 20px;\">head</h4><p style=\"color: #575a7b;\">noun</p><p class=\"word-meaning\" style=\"color: #575a7b;\">The last, or last few, layers of a neural network; typically consists of everything after the final pooling layer></p><p class=\"word-example\" style=\"color: #575a7b; font-style: italic; border-left: 5px solid #3fb618; padding-left: 20px; margin-top: 30px;\">Predictions from the model are the outputs from the head of the network</p>"
      ],
      "text/plain": [
       "<IPython.core.display.Markdown object>"
      ]
     },
     "execution_count": null,
     "metadata": {},
     "output_type": "execute_result"
    }
   ],
   "source": [
    "#| echo: false\n",
    "make_definition(\n",
    "    \"head\", \"noun\", \n",
    "    \"The last, or last few, layers of a neural network; typically consists of everything after the final pooling layer\",\n",
    "    \"Predictions from the model are the outputs from the head of the network\"\n",
    ")"
   ]
  },
  {
   "cell_type": "code",
   "execution_count": null,
   "id": "9485cdc4-7a59-4c0e-9132-3e58846a0e01",
   "metadata": {},
   "outputs": [
    {
     "data": {
      "text/plain": [
       "Sequential(\n",
       "  (0): AdaptiveConcatPool2d(\n",
       "    (ap): AdaptiveAvgPool2d(output_size=1)\n",
       "    (mp): AdaptiveMaxPool2d(output_size=1)\n",
       "  )\n",
       "  (1): fastai.layers.Flatten(full=False)\n",
       "  (2): BatchNorm1d(1024, eps=1e-05, momentum=0.1, affine=True, track_running_stats=True)\n",
       "  (3): Dropout(p=0.25, inplace=False)\n",
       "  (4): Linear(in_features=1024, out_features=512, bias=False)\n",
       "  (5): ReLU(inplace=True)\n",
       "  (6): BatchNorm1d(512, eps=1e-05, momentum=0.1, affine=True, track_running_stats=True)\n",
       "  (7): Dropout(p=0.5, inplace=False)\n",
       "  (8): Linear(in_features=512, out_features=37, bias=False)\n",
       ")"
      ]
     },
     "execution_count": null,
     "metadata": {},
     "output_type": "execute_result"
    }
   ],
   "source": [
    "learn.model[-1]"
   ]
  },
  {
   "cell_type": "code",
   "execution_count": null,
   "id": "37c0a746-befa-4b3e-a01b-efbed1769935",
   "metadata": {},
   "outputs": [
    {
     "ename": "TypeError",
     "evalue": "'VisionTransformer' object is not subscriptable",
     "output_type": "error",
     "traceback": [
      "\u001b[0;31m---------------------------------------------------------------------------\u001b[0m",
      "\u001b[0;31mTypeError\u001b[0m                                 Traceback (most recent call last)",
      "Cell \u001b[0;32mIn[9], line 1\u001b[0m\n\u001b[0;32m----> 1\u001b[0m \u001b[43mnet\u001b[49m\u001b[43m[\u001b[49m\u001b[38;5;241;43m-\u001b[39;49m\u001b[38;5;241;43m1\u001b[39;49m\u001b[43m]\u001b[49m\n",
      "\u001b[0;31mTypeError\u001b[0m: 'VisionTransformer' object is not subscriptable"
     ]
    }
   ],
   "source": [
    "net[-1]"
   ]
  },
  {
   "cell_type": "code",
   "execution_count": null,
   "id": "2bb8d847-408b-47e2-bba5-f2a6bf23ab86",
   "metadata": {},
   "outputs": [
    {
     "data": {
      "text/plain": [
       "2"
      ]
     },
     "execution_count": null,
     "metadata": {},
     "output_type": "execute_result"
    }
   ],
   "source": [
    "len(learn.model)"
   ]
  },
  {
   "cell_type": "code",
   "execution_count": null,
   "id": "0f762dcf-4d71-4fcb-a0c2-5e6fd1c9ca9c",
   "metadata": {},
   "outputs": [
    {
     "ename": "TypeError",
     "evalue": "object of type 'VisionTransformer' has no len()",
     "output_type": "error",
     "traceback": [
      "\u001b[0;31m---------------------------------------------------------------------------\u001b[0m",
      "\u001b[0;31mTypeError\u001b[0m                                 Traceback (most recent call last)",
      "Cell \u001b[0;32mIn[11], line 1\u001b[0m\n\u001b[0;32m----> 1\u001b[0m \u001b[38;5;28;43mlen\u001b[39;49m\u001b[43m(\u001b[49m\u001b[43mnet\u001b[49m\u001b[43m)\u001b[49m\n",
      "\u001b[0;31mTypeError\u001b[0m: object of type 'VisionTransformer' has no len()"
     ]
    }
   ],
   "source": [
    "len(net)"
   ]
  },
  {
   "cell_type": "code",
   "execution_count": null,
   "id": "6061994e-1a94-49b5-b9d9-4a007c28e09f",
   "metadata": {},
   "outputs": [],
   "source": [
    "class MyModel(nn.Module):\n",
    "    def __init__(self):\n",
    "        self.l1 = nn.Linear(1,1)\n",
    "        self.l2 = nn.linear(1,1)\n",
    "    def forward(self, x):\n",
    "        return self.l2(self.l1(x))"
   ]
  },
  {
   "cell_type": "code",
   "execution_count": null,
   "id": "905cb189-5a4d-4fef-b0cd-db85e1109ac2",
   "metadata": {},
   "outputs": [],
   "source": [
    "class MyModel(nn.Sequential):\n",
    "    def __init__(self):\n",
    "        layers = [\n",
    "            nn.Linear(1,1),\n",
    "            nn.Linear(1,1),\n",
    "        ]\n",
    "        super().__init__(*layers)"
   ]
  },
  {
   "cell_type": "code",
   "execution_count": null,
   "id": "8aec2400-819d-4225-8745-7c865217f857",
   "metadata": {},
   "outputs": [
    {
     "data": {
      "text/plain": [
       "(Linear(in_features=1, out_features=1, bias=True),\n",
       " Linear(in_features=1, out_features=1, bias=True))"
      ]
     },
     "execution_count": null,
     "metadata": {},
     "output_type": "execute_result"
    }
   ],
   "source": [
    "net = MyModel()\n",
    "net[0], net[1]"
   ]
  },
  {
   "cell_type": "code",
   "execution_count": null,
   "id": "736a04d6-e999-4a03-8f81-5bf3e9f83009",
   "metadata": {},
   "outputs": [],
   "source": [
    "def custom_cut_model(model:nn.Module, cut:typing.Union[int, typing.Callable]):\n",
    "    \"\"\"\n",
    "    Cuts `model` into an `nn.Sequential` based on `cut`. \n",
    "    \"\"\"\n",
    "    if isinstance(cut, int):\n",
    "        return nn.Sequential(*list(model.children())[:cut])\n",
    "    elif callable(cut):\n",
    "        return cut(model)\n",
    "    else:\n",
    "        raise NameError(\"`cut` must either be an integer or a function\")"
   ]
  },
  {
   "cell_type": "code",
   "execution_count": null,
   "id": "59a6edbe-0579-456b-a0d8-9d418957f796",
   "metadata": {},
   "outputs": [],
   "source": [
    "class CustomTimmBody(nn.Module):\n",
    "    \"\"\"\n",
    "    A small submodule to work with `timm` models more easily\n",
    "    \"\"\"\n",
    "    def __init__(\n",
    "        self, \n",
    "        model, \n",
    "        pretrained:bool=True, \n",
    "        cut=None, \n",
    "        n_in:int=3\n",
    "    ):\n",
    "        super().__init__()\n",
    "        self.needs_pooling = model.default_cfg.get('pool_size', None)\n",
    "        if cut is None:\n",
    "            self.model = model\n",
    "        else:\n",
    "            self.model = custom_cut_model(model, cut)\n",
    "    \n",
    "    def forward(self, x): \n",
    "        if self.needs_pooling:\n",
    "            return self.model.forward_features(x)\n",
    "        else:\n",
    "            return self.model(x)"
   ]
  },
  {
   "cell_type": "code",
   "execution_count": null,
   "id": "ec72cb40-b963-4558-8fde-b3b7e87d601b",
   "metadata": {},
   "outputs": [],
   "source": [
    "body = CustomTimmBody(\n",
    "    create_model(\"vit_tiny_patch16_224\", pretrained=True, num_classes=0, in_chans=3)\n",
    ").train()"
   ]
  },
  {
   "cell_type": "code",
   "execution_count": null,
   "id": "8e3c549f-0abc-4f7a-9b98-52d6d36feec1",
   "metadata": {},
   "outputs": [],
   "source": [
    "head = create_head(body.model.num_features, dls.c, pool=None)"
   ]
  },
  {
   "cell_type": "code",
   "execution_count": null,
   "id": "7341eedb-6249-43be-b11c-f51aa7454166",
   "metadata": {},
   "outputs": [
    {
     "data": {
      "text/plain": [
       "Sequential(\n",
       "  (0): BatchNorm1d(192, eps=1e-05, momentum=0.1, affine=True, track_running_stats=True)\n",
       "  (1): Dropout(p=0.25, inplace=False)\n",
       "  (2): Linear(in_features=192, out_features=512, bias=False)\n",
       "  (3): ReLU(inplace=True)\n",
       "  (4): BatchNorm1d(512, eps=1e-05, momentum=0.1, affine=True, track_running_stats=True)\n",
       "  (5): Dropout(p=0.5, inplace=False)\n",
       "  (6): Linear(in_features=512, out_features=37, bias=False)\n",
       ")"
      ]
     },
     "execution_count": null,
     "metadata": {},
     "output_type": "execute_result"
    }
   ],
   "source": [
    "head"
   ]
  },
  {
   "cell_type": "code",
   "execution_count": null,
   "id": "c2cfe3dc-5db0-442f-858c-4fbc167391b8",
   "metadata": {},
   "outputs": [],
   "source": [
    "x = torch.randn(2,3,224,224)"
   ]
  },
  {
   "cell_type": "code",
   "execution_count": null,
   "id": "e569fb07-fc24-4d9a-84a2-35aaaef227f5",
   "metadata": {},
   "outputs": [
    {
     "data": {
      "text/plain": [
       "(tensor([[-0.0650, -0.1741,  0.1089, -1.1668, -0.6229,  0.8892,  0.4859, -0.1704,\n",
       "          -1.4127,  0.7338,  1.0354,  0.6033,  0.3576, -0.2332,  0.7073, -0.7090,\n",
       "           0.3852, -0.3440,  0.4645,  0.4209,  1.2090,  0.3201,  0.6480, -1.4800,\n",
       "           0.7253, -0.1806,  0.7261,  0.6329,  0.5336, -1.4665, -0.9681, -0.3387,\n",
       "          -0.3044, -0.6216,  2.3369, -0.0941,  0.3703],\n",
       "         [-0.4785,  1.2014, -0.2310,  1.4840, -0.4752,  0.3363,  0.1472, -0.1076,\n",
       "           0.8156, -0.6819, -0.6366, -0.0721, -0.8710,  0.2871, -0.4673,  0.5040,\n",
       "           0.5288,  1.5585, -0.3499,  0.5983, -0.1188,  0.1523, -0.7708,  0.8939,\n",
       "          -0.0318, -0.8048, -0.2581,  0.5921,  0.1012,  0.1626,  0.2249,  0.4605,\n",
       "           0.1858, -0.4212, -0.0047,  0.6470, -0.7384]], grad_fn=<MmBackward0>),\n",
       " torch.Size([2, 37]))"
      ]
     },
     "execution_count": null,
     "metadata": {},
     "output_type": "execute_result"
    }
   ],
   "source": [
    "out = head(body(x))\n",
    "out, out.shape"
   ]
  },
  {
   "cell_type": "code",
   "execution_count": null,
   "id": "cfa5b80b-9a96-43fd-8c26-0f4c53105453",
   "metadata": {},
   "outputs": [
    {
     "data": {
      "text/plain": [
       "\u001b[0;31mSignature:\u001b[0m \u001b[0mapply_init\u001b[0m\u001b[0;34m(\u001b[0m\u001b[0mm\u001b[0m\u001b[0;34m,\u001b[0m \u001b[0mfunc\u001b[0m\u001b[0;34m=\u001b[0m\u001b[0;34m<\u001b[0m\u001b[0mfunction\u001b[0m \u001b[0mkaiming_normal_\u001b[0m \u001b[0mat\u001b[0m \u001b[0;36m0x7f21f43d5630\u001b[0m\u001b[0;34m>\u001b[0m\u001b[0;34m)\u001b[0m\u001b[0;34m\u001b[0m\u001b[0;34m\u001b[0m\u001b[0m\n",
       "\u001b[0;31mDocstring:\u001b[0m Initialize all non-batchnorm layers of `m` with `func`.\n",
       "\u001b[0;31mFile:\u001b[0m      /opt/conda/lib/python3.10/site-packages/fastai/torch_core.py\n",
       "\u001b[0;31mType:\u001b[0m      function\n"
      ]
     },
     "metadata": {},
     "output_type": "display_data"
    }
   ],
   "source": [
    "apply_init?"
   ]
  },
  {
   "cell_type": "code",
   "execution_count": null,
   "id": "fce78840-d9d1-4129-ad42-5047c4f6d95c",
   "metadata": {},
   "outputs": [],
   "source": [
    "apply_init(head)"
   ]
  },
  {
   "cell_type": "code",
   "execution_count": null,
   "id": "69a98b76-91ff-4c2a-a3dd-84f3c129f6f4",
   "metadata": {},
   "outputs": [
    {
     "data": {
      "text/plain": [
       "tensor([[ 0.2204, -3.4587, -0.5113, -1.4922, -1.2036,  3.9744, -1.5592, -1.1304,\n",
       "          1.1073,  0.4745,  1.4827,  0.8954, -2.0673,  0.3289,  1.6994,  0.0623,\n",
       "          1.7268,  2.5922, -1.4811, -1.4121,  0.7921,  1.5231,  1.2327, -0.0762,\n",
       "          0.5696, -1.2702,  3.3962, -2.2976,  2.4296, -0.0874, -0.0975,  0.0168,\n",
       "          2.2922,  2.0433,  1.1191,  1.1637, -2.1250],\n",
       "        [ 1.1871,  0.2985,  2.6397, -2.9931,  3.5329, -3.3390,  3.3316, -0.8618,\n",
       "          0.0611,  1.0972, -1.8489, -3.1779,  0.2882,  1.3150,  0.7034, -0.7141,\n",
       "         -0.5197, -3.5473,  1.0325,  1.3873,  2.3772, -3.8408, -0.3776,  0.0446,\n",
       "         -1.7974,  1.3227, -0.8745,  3.6397, -2.2262, -0.2738,  1.7177,  0.8619,\n",
       "         -3.6088, -4.8258,  0.2685,  2.7378,  1.7348]], grad_fn=<MmBackward0>)"
      ]
     },
     "execution_count": null,
     "metadata": {},
     "output_type": "execute_result"
    }
   ],
   "source": [
    "head(body(x))"
   ]
  },
  {
   "cell_type": "code",
   "execution_count": null,
   "id": "81db5b13-b7aa-4b11-a1cc-bcf6aa3ee3f1",
   "metadata": {},
   "outputs": [
    {
     "data": {
      "text/markdown": [
       "<h4 class=\"anchored\" style=\"color: #1f194c; display: flex; justify-content: space-between; margin-top: 20px;\">split</h4><p style=\"color: #575a7b;\">adjective</p><p class=\"word-meaning\" style=\"color: #575a7b;\">An arrangement of groups of layers by some criteria</p><p class=\"word-example\" style=\"color: #575a7b; font-style: italic; border-left: 5px solid #3fb618; padding-left: 20px; margin-top: 30px;\">The model was split between the body and the head</p>"
      ],
      "text/plain": [
       "<IPython.core.display.Markdown object>"
      ]
     },
     "execution_count": null,
     "metadata": {},
     "output_type": "execute_result"
    }
   ],
   "source": [
    "#| echo: false\n",
    "make_definition(\"split\", \"adjective\", \"An arrangement of groups of layers by some criteria\", \"The model was split between the body and the head\")"
   ]
  },
  {
   "cell_type": "code",
   "execution_count": null,
   "id": "199222f3-c9dc-429a-89d4-344dd54e064c",
   "metadata": {},
   "outputs": [
    {
     "data": {
      "text/markdown": [
       "<h4 class=\"anchored\" style=\"color: #1f194c; display: flex; justify-content: space-between; margin-top: 20px;\">freeze</h4><p style=\"color: #575a7b;\">verb</p><p class=\"word-meaning\" style=\"color: #575a7b;\">To make certain layers of a model untrainable</p><p class=\"word-example\" style=\"color: #575a7b; font-style: italic; border-left: 5px solid #3fb618; padding-left: 20px; margin-top: 30px;\">We froze the backbone of the pretrained model, but not the head</p>"
      ],
      "text/plain": [
       "<IPython.core.display.Markdown object>"
      ]
     },
     "execution_count": null,
     "metadata": {},
     "output_type": "execute_result"
    }
   ],
   "source": [
    "#| echo: false\n",
    "make_definition(\"freeze\", \"verb\", \"To make certain layers of a model untrainable\", \"We froze the backbone of the pretrained model, but not the head\")"
   ]
  },
  {
   "cell_type": "code",
   "execution_count": null,
   "id": "44ff7136-c3f3-4464-951b-1bb1f189bed5",
   "metadata": {},
   "outputs": [],
   "source": [
    "def my_split_func(model:nn.Module):\n",
    "    \"A function that splits layers by their parameters\"\n",
    "    return L(model[0], model[1:]).map(params)"
   ]
  },
  {
   "cell_type": "code",
   "execution_count": null,
   "id": "3e7a18a8-8cbc-4f9f-8680-18e321e54c82",
   "metadata": {},
   "outputs": [],
   "source": [
    "def splitter(model):\n",
    "    \"Splits a model by head and body\"\n",
    "    return L(model[0], model[1]).map(params)"
   ]
  },
  {
   "cell_type": "code",
   "execution_count": null,
   "id": "384fde99-5b09-435a-9b08-b4b9e2534e56",
   "metadata": {},
   "outputs": [],
   "source": [
    "learn = Learner(\n",
    "    dls,\n",
    "    nn.Sequential(body, head),\n",
    "    splitter=splitter\n",
    ")"
   ]
  },
  {
   "cell_type": "code",
   "execution_count": null,
   "id": "0300c6e8-4f5a-4862-8fac-1a37070f8892",
   "metadata": {},
   "outputs": [
    {
     "data": {
      "text/html": [
       "\n",
       "<style>\n",
       "    /* Turns off some styling */\n",
       "    progress {\n",
       "        /* gets rid of default border in Firefox and Opera. */\n",
       "        border: none;\n",
       "        /* Needs to be in here for Safari polyfill so background images work as expected. */\n",
       "        background-size: auto;\n",
       "    }\n",
       "    progress:not([value]), progress:not([value])::-webkit-progress-bar {\n",
       "        background: repeating-linear-gradient(45deg, #7e7e7e, #7e7e7e 10px, #5c5c5c 10px, #5c5c5c 20px);\n",
       "    }\n",
       "    .progress-bar-interrupted, .progress-bar-interrupted::-webkit-progress-bar {\n",
       "        background: #F44336;\n",
       "    }\n",
       "</style>\n"
      ],
      "text/plain": [
       "<IPython.core.display.HTML object>"
      ]
     },
     "metadata": {},
     "output_type": "display_data"
    },
    {
     "data": {
      "text/html": [],
      "text/plain": [
       "<IPython.core.display.HTML object>"
      ]
     },
     "metadata": {},
     "output_type": "display_data"
    },
    {
     "name": "stdout",
     "output_type": "stream",
     "text": [
      "Total trainable params: 5,605,056\n",
      "Total non-trainable params: 0\n",
      "\n",
      "Optimizer used: <function Adam>\n",
      "Loss function: FlattenedLoss of CrossEntropyLoss()\n",
      "\n",
      "Callbacks:\n",
      "  - TrainEvalCallback\n",
      "  - CastToTensor\n",
      "  - Recorder\n",
      "  - ProgressCallback\n"
     ]
    }
   ],
   "source": [
    "print(learn.summary()[-250:])"
   ]
  },
  {
   "cell_type": "code",
   "execution_count": null,
   "id": "cb25c1f5-142d-46ef-8070-2227ec83de91",
   "metadata": {},
   "outputs": [],
   "source": [
    "learn.freeze()"
   ]
  },
  {
   "cell_type": "code",
   "execution_count": null,
   "id": "04d17ea6-b1a2-4bb9-9917-87e49aa26fc1",
   "metadata": {},
   "outputs": [
    {
     "data": {
      "text/html": [
       "\n",
       "<style>\n",
       "    /* Turns off some styling */\n",
       "    progress {\n",
       "        /* gets rid of default border in Firefox and Opera. */\n",
       "        border: none;\n",
       "        /* Needs to be in here for Safari polyfill so background images work as expected. */\n",
       "        background-size: auto;\n",
       "    }\n",
       "    progress:not([value]), progress:not([value])::-webkit-progress-bar {\n",
       "        background: repeating-linear-gradient(45deg, #7e7e7e, #7e7e7e 10px, #5c5c5c 10px, #5c5c5c 20px);\n",
       "    }\n",
       "    .progress-bar-interrupted, .progress-bar-interrupted::-webkit-progress-bar {\n",
       "        background: #F44336;\n",
       "    }\n",
       "</style>\n"
      ],
      "text/plain": [
       "<IPython.core.display.HTML object>"
      ]
     },
     "metadata": {},
     "output_type": "display_data"
    },
    {
     "data": {
      "text/html": [],
      "text/plain": [
       "<IPython.core.display.HTML object>"
      ]
     },
     "metadata": {},
     "output_type": "display_data"
    },
    {
     "name": "stdout",
     "output_type": "stream",
     "text": [
      "Total trainable params: 128,256\n",
      "Total non-trainable params: 5,476,800\n",
      "\n",
      "Optimizer used: <function Adam>\n",
      "Loss function: FlattenedLoss of CrossEntropyLoss()\n",
      "\n",
      "Model frozen up to parameter group #1\n",
      "\n",
      "Callbacks:\n",
      "  - TrainEvalCallback\n",
      "  - CastToTensor\n",
      "  - Recorder\n",
      "  - ProgressCallback\n"
     ]
    }
   ],
   "source": [
    "print(learn.summary()[-295:])"
   ]
  },
  {
   "cell_type": "code",
   "execution_count": null,
   "id": "21379796-a099-4c01-9ada-97e5a56271e0",
   "metadata": {},
   "outputs": [],
   "source": []
  }
 ],
 "metadata": {},
 "nbformat": 4,
 "nbformat_minor": 5
}
