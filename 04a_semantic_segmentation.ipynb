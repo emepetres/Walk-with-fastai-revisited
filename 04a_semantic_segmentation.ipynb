{
 "cells": [
  {
   "cell_type": "code",
   "execution_count": 1,
   "id": "24d0f939-0f6c-4904-8824-7c87a9f160c1",
   "metadata": {},
   "outputs": [],
   "source": [
    "from fastai.vision.all import *"
   ]
  },
  {
   "cell_type": "code",
   "execution_count": 2,
   "id": "ad1a14bc-8e95-4779-a9ee-3c34af86281b",
   "metadata": {},
   "outputs": [],
   "source": [
    "url = \"https://drive.google.com/uc?id=18xM3jU2dSp1DiDqEM6PVXattNMZvsX4z\""
   ]
  },
  {
   "cell_type": "code",
   "execution_count": 3,
   "id": "2bd90cf6-e1f3-408b-bd91-3b50544745c9",
   "metadata": {},
   "outputs": [],
   "source": [
    "!gdown {url}"
   ]
  },
  {
   "cell_type": "code",
   "execution_count": 5,
   "id": "77f5eb23-f80d-402b-81bc-c67878700f63",
   "metadata": {},
   "outputs": [],
   "source": [
    "from zipfile import ZipFile\n",
    "\n",
    "with ZipFile(\"../Portrait.zip\", \"r\") as zip_ref:\n",
    "    zip_ref.extractall(\"../data\")"
   ]
  },
  {
   "cell_type": "code",
   "execution_count": 2,
   "id": "718e08fe-7559-4752-b082-eb19d603cb00",
   "metadata": {},
   "outputs": [],
   "source": [
    "path = Path(\"../data\")"
   ]
  },
  {
   "cell_type": "code",
   "execution_count": 4,
   "id": "e0612b60-4cdc-423f-ae60-ff3e65db5a00",
   "metadata": {},
   "outputs": [],
   "source": [
    "for walk in path.ls():\n",
    "    print(repr(walk), walk.is_file())"
   ]
  },
  {
   "cell_type": "code",
   "execution_count": 5,
   "id": "8c560e41-dbce-4bdd-8d83-c89f8164bb5b",
   "metadata": {},
   "outputs": [],
   "source": [
    "(path/\"GT_png\").ls()[0]"
   ]
  },
  {
   "cell_type": "code",
   "execution_count": 16,
   "id": "17f407fa-3eb7-4424-ba37-84787d8697e0",
   "metadata": {},
   "outputs": [],
   "source": [
    "mask = Image.open((path/\"GT_png\").ls()[0])"
   ]
  },
  {
   "cell_type": "code",
   "execution_count": 26,
   "id": "a4d8b456-2abb-41c6-bf28-7dac707577b5",
   "metadata": {},
   "outputs": [],
   "source": [
    "mask"
   ]
  },
  {
   "cell_type": "code",
   "execution_count": 17,
   "id": "c99b4bbe-9d3b-4463-9d68-ea0d5a0c9634",
   "metadata": {},
   "outputs": [],
   "source": [
    "mask = np.asarray(mask); mask"
   ]
  },
  {
   "cell_type": "code",
   "execution_count": 3,
   "id": "55cda0ab-37ae-43d4-848b-a48b622c1ab5",
   "metadata": {},
   "outputs": [],
   "source": [
    "def get_codes(fnames) -> Dict[int,int]: \n",
    "    \"Returns a dictionary of `original_code:new_code` for pixel values in segmentation masks\"\n",
    "    unique_codes = set()\n",
    "    for fname in fnames:\n",
    "        mask = Image.open(fname)\n",
    "        mask = np.asarray(mask)\n",
    "        for color in np.unique(mask):\n",
    "            unique_codes.add(color)\n",
    "    return {\n",
    "        i : color\n",
    "        for i, color in \n",
    "        enumerate(unique_codes)\n",
    "    }"
   ]
  },
  {
   "cell_type": "code",
   "execution_count": 4,
   "id": "0925d08f-4f86-4525-b806-01ffa2c83eba",
   "metadata": {},
   "outputs": [],
   "source": [
    "unique_codes = get_codes((path/\"GT_png\").ls()[:20])\n",
    "unique_codes"
   ]
  },
  {
   "cell_type": "code",
   "execution_count": 24,
   "id": "ff4f706f-8414-4e1a-9372-cc171d34e74e",
   "metadata": {},
   "outputs": [],
   "source": [
    "mask = mask.copy()\n",
    "np.place(mask, mask==255, 1)\n",
    "np.unique(mask)"
   ]
  },
  {
   "cell_type": "code",
   "execution_count": 5,
   "id": "a806dc9a-7014-4339-836a-ec785c2809b5",
   "metadata": {},
   "outputs": [],
   "source": [
    "codes = [\"Background\", \"Face\"]\n",
    "blocks = (ImageBlock, MaskBlock(codes=codes))"
   ]
  },
  {
   "cell_type": "code",
   "execution_count": 31,
   "id": "7be26a09-57b5-4e4f-be9c-6dbb5ecbb0dc",
   "metadata": {},
   "outputs": [],
   "source": [
    "unique_codes"
   ]
  },
  {
   "cell_type": "code",
   "execution_count": 10,
   "id": "323e5552-a836-4913-9e33-f372f19334ab",
   "metadata": {},
   "outputs": [],
   "source": [
    "def get_y(filename:Path, unique_codes:dict):\n",
    "    \"Grabs a mask from `filename` and adjusts the pixel values based on `unique_codes`\"\n",
    "    filename = path/\"GT_png\"/f'{filename.stem}_mask.png'\n",
    "    mask = np.asarray(Image.open(filename)).copy()\n",
    "    for new_value, old_value in unique_codes.items():\n",
    "        np.place(mask, mask==old_value, new_value)\n",
    "    return PILMask.create(mask)"
   ]
  },
  {
   "cell_type": "code",
   "execution_count": 11,
   "id": "b13cafa2-def9-4560-a88a-1a0573a366d7",
   "metadata": {},
   "outputs": [],
   "source": [
    "new_mask = get_y((path/\"images_data_crop\").ls()[0], unique_codes)\n",
    "new_mask.show(cmap=\"Blues\");"
   ]
  },
  {
   "cell_type": "code",
   "execution_count": 19,
   "id": "d261e2ca-fbc4-484b-9703-81ef2e82b08c",
   "metadata": {},
   "outputs": [],
   "source": [
    "block = DataBlock(\n",
    "    blocks=blocks,\n",
    "    splitter=RandomSplitter(),\n",
    "    get_y=partial(get_y, unique_codes=unique_codes),\n",
    "    item_tfms=Resize(224),\n",
    "    batch_tfms=[*aug_transforms(), Normalize.from_stats(*imagenet_stats)]\n",
    ")"
   ]
  },
  {
   "cell_type": "code",
   "execution_count": 20,
   "id": "8b61743e-a963-40e6-8bac-63b83a91c4f3",
   "metadata": {},
   "outputs": [],
   "source": [
    "dls = block.dataloaders(\n",
    "    get_image_files(path/'images_data_crop'), \n",
    "    bs=8\n",
    ")"
   ]
  },
  {
   "cell_type": "code",
   "execution_count": 21,
   "id": "b8833731-bc07-4e17-a164-be8533b9c264",
   "metadata": {},
   "outputs": [],
   "source": [
    "dls.show_batch(cmap=\"Blues\", vmin=0, vmax=1)"
   ]
  },
  {
   "cell_type": "code",
   "execution_count": 26,
   "id": "f41f7f4e-0e7e-487c-9a3a-30a1f7090901",
   "metadata": {},
   "outputs": [],
   "source": [
    "splitter = RandomSplitter()\n",
    "dsets = Datasets(\n",
    "    get_image_files(path/'images_data_crop'),\n",
    "    tfms=[\n",
    "        [PILImage.create], \n",
    "        [partial(get_y, unique_codes=unique_codes)]\n",
    "    ],\n",
    "    splits = splitter(get_image_files(path/'images_data_crop'))\n",
    ")"
   ]
  },
  {
   "cell_type": "code",
   "execution_count": 35,
   "id": "8a1a81ac-ead0-4689-9fdc-f11bd3602f9d",
   "metadata": {},
   "outputs": [],
   "source": [
    "dls = dsets.dataloaders(\n",
    "    after_item = [\n",
    "        Resize(224), \n",
    "        ToTensor(), \n",
    "        AddMaskCodes(codes=codes)\n",
    "    ],\n",
    "    after_batch = [\n",
    "        *aug_transforms(), \n",
    "        IntToFloatTensor(), \n",
    "        Normalize.from_stats(*imagenet_stats)\n",
    "    ]\n",
    ")"
   ]
  },
  {
   "cell_type": "code",
   "execution_count": 37,
   "id": "7437750b-3628-4f7f-bcee-5ee9ab767ae3",
   "metadata": {},
   "outputs": [],
   "source": [
    "dls.show_batch(cmap=\"Blues\", vmin=0, vmax=1)"
   ]
  },
  {
   "cell_type": "code",
   "execution_count": null,
   "id": "34d2e033-bad8-4e3b-8f71-32776137db0c",
   "metadata": {},
   "outputs": [],
   "source": []
  }
 ],
 "metadata": {},
 "nbformat": 4,
 "nbformat_minor": 5
}
