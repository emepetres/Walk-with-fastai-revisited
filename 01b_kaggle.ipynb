{
 "cells": [
  {
   "cell_type": "code",
   "execution_count": 3,
   "id": "b603cf1c-a9dd-43d6-84d4-9fdbdf11d0a8",
   "metadata": {},
   "outputs": [],
   "source": [
    "!pip install kaggle >> /dev/null"
   ]
  },
  {
   "cell_type": "code",
   "execution_count": null,
   "id": "b1084a98-1338-45d4-b279-fdadb3a41b7f",
   "metadata": {},
   "outputs": [],
   "source": [
    "!kaggle datasets download -d agrigorev/clothing-dataset-full"
   ]
  },
  {
   "cell_type": "code",
   "execution_count": 1,
   "id": "20214cf6-f1a7-4912-96e9-b70222081962",
   "metadata": {},
   "outputs": [],
   "source": [
    "from fastcore.xtras import Path\n",
    "zip_path = Path(\"../clothing-dataset-full.zip\")\n",
    "zip_path.exists()"
   ]
  },
  {
   "cell_type": "code",
   "execution_count": 2,
   "id": "85609d5c-901d-49e9-9899-1a4425af0089",
   "metadata": {},
   "outputs": [],
   "source": [
    "import zipfile\n",
    "with zipfile.ZipFile(zip_path, \"r\") as zip_ref:\n",
    "    zip_ref.extractall(\"../data\")"
   ]
  },
  {
   "cell_type": "code",
   "execution_count": 3,
   "id": "c7cd1059-cb2f-433a-9baf-25b0aea95367",
   "metadata": {},
   "outputs": [],
   "source": [
    "data_path = Path(\"../data\")\n",
    "data_path.ls()"
   ]
  },
  {
   "cell_type": "code",
   "execution_count": 4,
   "id": "8907b1fb-e8aa-4f7c-8189-f0307684ec37",
   "metadata": {},
   "outputs": [],
   "source": [
    "from fastai.vision.all import *"
   ]
  },
  {
   "cell_type": "code",
   "execution_count": 5,
   "id": "b1474850-e519-489e-8c90-559a9ab098c0",
   "metadata": {},
   "outputs": [],
   "source": [
    "(data_path/\"images_compressed\").ls()[:3]"
   ]
  },
  {
   "cell_type": "code",
   "execution_count": 6,
   "id": "dd1267c8-4618-46b3-8906-47ec427490a4",
   "metadata": {},
   "outputs": [],
   "source": [
    "im_path = (data_path/\"images_compressed\").ls()[0]\n",
    "im = Image.open(im_path)\n",
    "im"
   ]
  },
  {
   "cell_type": "code",
   "execution_count": 7,
   "id": "67f8abc8-0b00-4634-827d-3633a51fde75",
   "metadata": {},
   "outputs": [],
   "source": [
    "im.shape"
   ]
  },
  {
   "cell_type": "code",
   "execution_count": 8,
   "id": "cdc2f78d-2604-4324-8b21-f20d49a410a7",
   "metadata": {},
   "outputs": [],
   "source": [
    "im_path = (data_path/\"images_original\").ls()[0]\n",
    "im = Image.open(im_path);"
   ]
  },
  {
   "cell_type": "code",
   "execution_count": 9,
   "id": "d9a7d743-af42-4f74-9bff-630b309812ec",
   "metadata": {},
   "outputs": [],
   "source": [
    "im.shape"
   ]
  },
  {
   "cell_type": "code",
   "execution_count": 12,
   "id": "c3dd385a-d2e7-4308-89e0-ebacff0e97b5",
   "metadata": {},
   "outputs": [],
   "source": [
    "bad_imgs = []\n",
    "for im in (data_path/\"images_compressed\").ls():\n",
    "    try:\n",
    "        _ = Image.open(im)\n",
    "    except:\n",
    "        bad_imgs.append(im)\n",
    "        im.unlink()"
   ]
  },
  {
   "cell_type": "code",
   "execution_count": 13,
   "id": "62091093-e650-44d5-b149-93a47dd2e5cc",
   "metadata": {},
   "outputs": [],
   "source": [
    "len(bad_imgs)"
   ]
  },
  {
   "cell_type": "code",
   "execution_count": 14,
   "id": "3749e090-52b0-4421-a788-e6c5d96a1ca6",
   "metadata": {},
   "outputs": [],
   "source": [
    "df = pd.read_csv(data_path/'images.csv')\n",
    "df.head()"
   ]
  },
  {
   "cell_type": "code",
   "execution_count": 15,
   "id": "c4e29b02-cfea-4c3e-99be-d4ed030ba12d",
   "metadata": {},
   "outputs": [],
   "source": [
    "len(df[df[\"label\"] == \"Not sure\"]), len(df)"
   ]
  },
  {
   "cell_type": "code",
   "execution_count": 16,
   "id": "188e5872-35ff-494c-8b6d-936cab09b723",
   "metadata": {},
   "outputs": [],
   "source": [
    "len(df[~(df[\"label\"] == \"Not sure\")])"
   ]
  },
  {
   "cell_type": "code",
   "execution_count": 17,
   "id": "1f3b8604-ac79-47b3-a408-d8014b4ffb8d",
   "metadata": {},
   "outputs": [],
   "source": [
    "clean_df = df[~(df[\"label\"] == \"Not sure\")]\n",
    "clean_df.head()"
   ]
  },
  {
   "cell_type": "code",
   "execution_count": 24,
   "id": "cff67308-aaf7-49b6-8586-7af7859e9ec1",
   "metadata": {},
   "outputs": [],
   "source": [
    "for img in bad_imgs:\n",
    "    clean_df = clean_df[clean_df[\"image\"] != img.stem]"
   ]
  },
  {
   "cell_type": "code",
   "execution_count": 25,
   "id": "896ef810-20f0-447a-921e-8b4f7e836658",
   "metadata": {},
   "outputs": [],
   "source": [
    "len(clean_df)"
   ]
  },
  {
   "cell_type": "code",
   "execution_count": 26,
   "id": "479a61b4-c973-4c10-be2a-07e84848e739",
   "metadata": {},
   "outputs": [],
   "source": [
    "clean_df[\"label\"].unique(), len(clean_df[\"label\"].unique())"
   ]
  },
  {
   "cell_type": "code",
   "execution_count": 27,
   "id": "e810b0b9-4567-4b7e-a321-03f3326f76ba",
   "metadata": {},
   "outputs": [],
   "source": [
    "blocks = (ImageBlock, CategoryBlock)"
   ]
  },
  {
   "cell_type": "code",
   "execution_count": 28,
   "id": "2a934e1a-9dc8-4ea2-b9ba-d5381d85c30d",
   "metadata": {},
   "outputs": [],
   "source": [
    "get_x = ColReader(\"image\", pref=(data_path/\"images_compressed\"), suff=\".jpg\")\n",
    "get_y = ColReader(\"label\")"
   ]
  },
  {
   "cell_type": "code",
   "execution_count": 29,
   "id": "05a2abb7-8646-46e8-b6b2-4f36924c6301",
   "metadata": {},
   "outputs": [],
   "source": [
    "item_tfms = [Resize(224)]\n",
    "batch_tfms = [*aug_transforms(), Normalize.from_stats(*imagenet_stats)]"
   ]
  },
  {
   "cell_type": "code",
   "execution_count": 30,
   "id": "513970ac-e6f4-48c8-9808-6f6ac0d1dca2",
   "metadata": {},
   "outputs": [],
   "source": [
    "dblock = DataBlock(\n",
    "    blocks=blocks,\n",
    "    get_x=get_x,\n",
    "    get_y=get_y,\n",
    "    item_tfms=item_tfms,\n",
    "    batch_tfms=batch_tfms\n",
    ")"
   ]
  },
  {
   "cell_type": "code",
   "execution_count": 31,
   "id": "96635bc1-d3f6-4cfa-bf37-7a297a64181a",
   "metadata": {},
   "outputs": [],
   "source": [
    "dls = dblock.dataloaders(clean_df)"
   ]
  },
  {
   "cell_type": "code",
   "execution_count": 32,
   "id": "e3f01df4-b5a4-4052-9c8c-ad298b902f3d",
   "metadata": {},
   "outputs": [],
   "source": [
    "dls.show_batch()"
   ]
  },
  {
   "cell_type": "code",
   "execution_count": 33,
   "id": "d75f2346-d0ee-4f2b-a6c9-7749e720dfc7",
   "metadata": {},
   "outputs": [],
   "source": [
    "learn = vision_learner(dls, resnet34, metrics=accuracy)\n",
    "learn.fine_tune(5)"
   ]
  },
  {
   "cell_type": "code",
   "execution_count": null,
   "id": "fe9e2d0f-0485-4a75-a47d-5b33bbdfb8cf",
   "metadata": {},
   "outputs": [],
   "source": []
  }
 ],
 "metadata": {},
 "nbformat": 4,
 "nbformat_minor": 5
}
