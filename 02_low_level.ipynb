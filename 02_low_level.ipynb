{
 "cells": [
  {
   "cell_type": "code",
   "execution_count": null,
   "id": "24491d4a-7940-44db-8900-c1f72b1b6d31",
   "metadata": {},
   "outputs": [],
   "source": [
    "from fastai.vision.all import *"
   ]
  },
  {
   "cell_type": "code",
   "execution_count": null,
   "id": "0e60d5dd-44ab-4df7-bc3d-7b6534d25cbf",
   "metadata": {},
   "outputs": [],
   "source": [
    "path = untar_data(URLs.MNIST); path, path.ls()"
   ]
  },
  {
   "cell_type": "code",
   "execution_count": null,
   "id": "ac0ba66f-32b3-4172-9816-8efd366229a0",
   "metadata": {},
   "outputs": [],
   "source": [
    "items = get_image_files(path)\n",
    "items[:10]"
   ]
  },
  {
   "cell_type": "code",
   "execution_count": null,
   "id": "d6d14076-7ee0-457b-945a-a3a42125b6e9",
   "metadata": {},
   "outputs": [],
   "source": [
    "im = PILImageBW.create(items[0])"
   ]
  },
  {
   "cell_type": "code",
   "execution_count": null,
   "id": "9f0d2d75-aafc-4f24-8851-5f323e77f3d7",
   "metadata": {},
   "outputs": [],
   "source": [
    "im.show()"
   ]
  },
  {
   "cell_type": "code",
   "execution_count": null,
   "id": "eb7f02e6-0d1d-41b8-88e0-117b4ee7863f",
   "metadata": {},
   "outputs": [],
   "source": [
    "splitter = GrandparentSplitter(\n",
    "    train_name=\"training\",\n",
    "    valid_name=\"testing\",\n",
    ")"
   ]
  },
  {
   "cell_type": "code",
   "execution_count": null,
   "id": "4be60568-9f57-4128-ab98-7d36b52bc8ba",
   "metadata": {},
   "outputs": [],
   "source": [
    "splits = splitter(items)\n",
    "splits[0][:5], splits[1][:5]"
   ]
  },
  {
   "cell_type": "code",
   "execution_count": null,
   "id": "74ae470c-1cd8-4dc8-8fa9-1ba1366ce063",
   "metadata": {},
   "outputs": [],
   "source": [
    "len(splits[0]), len(splits[1])"
   ]
  },
  {
   "cell_type": "code",
   "execution_count": null,
   "id": "261eda5d-505a-41bc-9fa3-37e23c78dbcf",
   "metadata": {},
   "outputs": [],
   "source": [
    "dsrc = Datasets(\n",
    "    items,\n",
    "    tfms=[[PILImageBW.create], [parent_label, Categorize]],\n",
    "    splits=splits\n",
    ")"
   ]
  },
  {
   "cell_type": "code",
   "execution_count": null,
   "id": "c9e5b730-5c21-4080-a536-eeeca646cf90",
   "metadata": {},
   "outputs": [],
   "source": [
    "show_at(dsrc.train, 3);"
   ]
  },
  {
   "cell_type": "code",
   "execution_count": null,
   "id": "81b11e3b-5495-4949-84b3-199170fda8df",
   "metadata": {},
   "outputs": [],
   "source": [
    "item_tfms = [CropPad(34), RandomCrop(size=28), ToTensor()]"
   ]
  },
  {
   "cell_type": "code",
   "execution_count": null,
   "id": "5eeafd6b-6f80-4e23-b299-6c5f38f776e0",
   "metadata": {},
   "outputs": [],
   "source": [
    "batch_tfms = [IntToFloatTensor(), Normalize()]"
   ]
  },
  {
   "cell_type": "code",
   "execution_count": null,
   "id": "b7563354-5188-47cc-b186-8ce36e1abe4f",
   "metadata": {},
   "outputs": [],
   "source": [
    "dls = dsrc.dataloaders(\n",
    "    bs=128,\n",
    "    after_item=item_tfms,\n",
    "    after_batch=batch_tfms\n",
    ")"
   ]
  },
  {
   "cell_type": "code",
   "execution_count": null,
   "id": "b3fa8f1b-3447-4729-b458-44e71901d6ed",
   "metadata": {},
   "outputs": [],
   "source": [
    "dls.show_batch()"
   ]
  },
  {
   "cell_type": "code",
   "execution_count": null,
   "id": "e026e54e-723a-4d44-b6a3-2666c58012ee",
   "metadata": {},
   "outputs": [],
   "source": [
    "xb, yb = dls.one_batch()"
   ]
  },
  {
   "cell_type": "code",
   "execution_count": null,
   "id": "e2e35cbf-9d55-4e1f-a428-54b93c1dcb9f",
   "metadata": {},
   "outputs": [],
   "source": [
    "xb.shape, yb.shape"
   ]
  },
  {
   "cell_type": "code",
   "execution_count": null,
   "id": "adf7f4af-0383-4780-96ec-33ec83019817",
   "metadata": {},
   "outputs": [],
   "source": [
    "dls.c"
   ]
  },
  {
   "cell_type": "code",
   "execution_count": null,
   "id": "d5d567bc-82fd-437a-bf88-3276d4b5e75f",
   "metadata": {},
   "outputs": [],
   "source": [
    "model = resnet18(weights=None, num_classes=dls.c); model.fc"
   ]
  },
  {
   "cell_type": "code",
   "execution_count": null,
   "id": "88049901-76b3-48cd-bea7-aea872a5632c",
   "metadata": {},
   "outputs": [],
   "source": [
    "model(xb)"
   ]
  },
  {
   "cell_type": "code",
   "execution_count": null,
   "id": "2419b2bb-c6e4-4164-aea5-0d1ca00ecb92",
   "metadata": {},
   "outputs": [],
   "source": [
    "model.conv1"
   ]
  },
  {
   "cell_type": "code",
   "execution_count": null,
   "id": "1328f9f9-d70f-42b8-bac9-4d1de41d0588",
   "metadata": {},
   "outputs": [],
   "source": [
    "model.conv1 = nn.Conv2d(\n",
    "    in_channels=1, \n",
    "    out_channels=64, \n",
    "    kernel_size=(7,7), \n",
    "    stride=(2,2), \n",
    "    padding=(3,3), \n",
    "    bias=False\n",
    ")"
   ]
  },
  {
   "cell_type": "code",
   "execution_count": null,
   "id": "50dcff75-e794-400f-a12a-0ce142146e05",
   "metadata": {},
   "outputs": [],
   "source": [
    "model(xb)"
   ]
  },
  {
   "cell_type": "code",
   "execution_count": null,
   "id": "34a31f94-0c5c-438c-a757-aa44eb72a487",
   "metadata": {},
   "outputs": [],
   "source": [
    "learn = Learner(dls, model, metrics=[accuracy])"
   ]
  },
  {
   "cell_type": "code",
   "execution_count": null,
   "id": "f484da66-64ed-495b-bb65-d60a9ec1b53f",
   "metadata": {},
   "outputs": [],
   "source": [
    "learn.fit(1)"
   ]
  },
  {
   "cell_type": "code",
   "execution_count": null,
   "id": "4ff7b06e-3703-43d5-812e-9bc898613fa1",
   "metadata": {},
   "outputs": [],
   "source": [
    "items[0]"
   ]
  },
  {
   "cell_type": "code",
   "execution_count": null,
   "id": "e8ba7546-3b32-4711-8806-23bd4baba706",
   "metadata": {},
   "outputs": [],
   "source": [
    "preds = learn.predict(items[0]); preds"
   ]
  },
  {
   "cell_type": "code",
   "execution_count": null,
   "id": "ca8a02a7-09f1-4b5f-9a7a-3ebb2077e13d",
   "metadata": {},
   "outputs": [],
   "source": []
  }
 ],
 "metadata": {},
 "nbformat": 4,
 "nbformat_minor": 5
}
