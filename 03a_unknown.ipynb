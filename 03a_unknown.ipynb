{
 "cells": [
  {
   "cell_type": "code",
   "execution_count": 1,
   "id": "1f1eeb17-bec8-4cf0-80be-5a3034669fb6",
   "metadata": {},
   "outputs": [],
   "source": [
    "from fastai.vision.all import *"
   ]
  },
  {
   "cell_type": "code",
   "execution_count": 2,
   "id": "5ea69753-05bf-4575-8cea-4cd52c0008c7",
   "metadata": {},
   "outputs": [],
   "source": [
    "path = untar_data(URLs.PETS)/'images'"
   ]
  },
  {
   "cell_type": "code",
   "execution_count": 3,
   "id": "c8f2e5f5-a4e7-4195-93a6-18fbbcf9e350",
   "metadata": {},
   "outputs": [],
   "source": [
    "fnames = get_image_files(path/'images')\n",
    "pat = r'(.+)_\\d+.jpg$'\n",
    "item_tfms = RandomResizedCrop(460, min_scale=0.75, ratio=(1.,1.))\n",
    "batch_tfms = [*aug_transforms(size=224, max_warp=0), Normalize.from_stats(*imagenet_stats)]\n",
    "bs=64"
   ]
  },
  {
   "cell_type": "code",
   "execution_count": 4,
   "id": "7c843f6a-cf67-4c55-820d-34aac9c6fd37",
   "metadata": {},
   "outputs": [],
   "source": [
    "pets = DataBlock(blocks=(ImageBlock, CategoryBlock),\n",
    "                 get_items=get_image_files,\n",
    "                 splitter=RandomSplitter(),\n",
    "                 get_y=RegexLabeller(pat = r'/([^/]+)_\\d+.*'),\n",
    "                 item_tfms=item_tfms,\n",
    "                 batch_tfms=batch_tfms)"
   ]
  },
  {
   "cell_type": "code",
   "execution_count": 5,
   "id": "8f272263-af5d-4b9c-b4d3-8551c1ca6a94",
   "metadata": {},
   "outputs": [],
   "source": [
    "def label_to_list(o): return [o]"
   ]
  },
  {
   "cell_type": "code",
   "execution_count": 6,
   "id": "47655d34-0b97-4c9b-a192-52f73887fa94",
   "metadata": {},
   "outputs": [],
   "source": [
    "multi_pets = DataBlock(\n",
    "    blocks=(ImageBlock, MultiCategoryBlock),\n",
    "    get_items=get_image_files,\n",
    "    splitter=RandomSplitter(),\n",
    "    get_y=Pipeline(\n",
    "        [RegexLabeller(pat = r'/([^/]+)_\\d+.*'), label_to_list]\n",
    "    ),\n",
    "    item_tfms=item_tfms,\n",
    "    batch_tfms=batch_tfms\n",
    ")"
   ]
  },
  {
   "cell_type": "code",
   "execution_count": 7,
   "id": "3d579c51-9c07-4f44-9b0c-2f3e72783a4a",
   "metadata": {},
   "outputs": [],
   "source": [
    "dls = multi_pets.dataloaders(path, bs=32)"
   ]
  },
  {
   "cell_type": "code",
   "execution_count": 8,
   "id": "9d94369c-f6b4-4662-8eb9-359c9c777865",
   "metadata": {},
   "outputs": [],
   "source": [
    "dls.show_batch()"
   ]
  },
  {
   "cell_type": "code",
   "execution_count": 9,
   "id": "614a6e4d-d34b-4026-846a-da7ea1af32ab",
   "metadata": {},
   "outputs": [],
   "source": [
    "train_idxs, valid_idxs = RandomSplitter()(get_image_files(path))"
   ]
  },
  {
   "cell_type": "code",
   "execution_count": 10,
   "id": "32e190b7-730c-4b99-a48e-ccac26c51608",
   "metadata": {},
   "outputs": [],
   "source": [
    "tfms = [\n",
    "    [PILImage.create],\n",
    "    [\n",
    "        RegexLabeller(pat = r'/([^/]+)_\\d+.*'),\n",
    "        label_to_list,\n",
    "        MultiCategorize(vocab=list(dls.vocab)),\n",
    "        OneHotEncode(len(dls.vocab))\n",
    "    ]\n",
    "]"
   ]
  },
  {
   "cell_type": "code",
   "execution_count": 11,
   "id": "a20745f7-12f4-4109-85b0-3686ea61e516",
   "metadata": {},
   "outputs": [],
   "source": [
    "dsets = Datasets(get_image_files(path), tfms=tfms, splits=[train_idxs, valid_idxs])"
   ]
  },
  {
   "cell_type": "code",
   "execution_count": 12,
   "id": "7d570e2e-237e-4a33-8468-263a2acd655e",
   "metadata": {},
   "outputs": [],
   "source": [
    "dsets[0]"
   ]
  },
  {
   "cell_type": "code",
   "execution_count": 13,
   "id": "8c83aad4-263c-487c-94ea-da0124d759f9",
   "metadata": {},
   "outputs": [],
   "source": [
    "dls = dsets.dataloaders(\n",
    "    after_item=[ToTensor(), RandomResizedCrop(460, min_scale=.75)],\n",
    "    after_batch=[IntToFloatTensor(), *aug_transforms(size=224, max_warp=0), Normalize.from_stats(*imagenet_stats)],\n",
    "    bs=32\n",
    ")"
   ]
  },
  {
   "cell_type": "code",
   "execution_count": 14,
   "id": "def5ab39-f6a4-41c1-a6ac-26b0ee392dec",
   "metadata": {},
   "outputs": [],
   "source": [
    "dls.show_batch()"
   ]
  },
  {
   "cell_type": "code",
   "execution_count": 15,
   "id": "80f023a6-aa46-442e-860a-c8d57727287e",
   "metadata": {},
   "outputs": [],
   "source": [
    "learn = vision_learner(dls, resnet34, metrics=[partial(accuracy_multi, thresh=0.95)])"
   ]
  },
  {
   "cell_type": "code",
   "execution_count": 16,
   "id": "4783a8e1-b7ca-4d0b-b9ad-6cce87970ad1",
   "metadata": {},
   "outputs": [],
   "source": [
    "learn.fine_tune(4, 2e-3)"
   ]
  },
  {
   "cell_type": "code",
   "execution_count": 17,
   "id": "9a230829-0ac9-4f4e-8153-4192d70d212d",
   "metadata": {},
   "outputs": [],
   "source": [
    "learn.loss_func.thresh = 0.95"
   ]
  },
  {
   "cell_type": "code",
   "execution_count": 18,
   "id": "a8cf8846-55ce-4d91-8299-62dd9e522bec",
   "metadata": {},
   "outputs": [],
   "source": [
    "PERSIAN_CAT_URL = \"https://azure.wgp-cdn.co.uk/app-yourcat/posts/iStock-174776419-1.jpg\""
   ]
  },
  {
   "cell_type": "code",
   "execution_count": 19,
   "id": "0684f0d0-6738-4e01-b647-9c4e6a0d82c0",
   "metadata": {},
   "outputs": [],
   "source": [
    "response = requests.get(PERSIAN_CAT_URL)\n",
    "im = PILImage.create(response.content)"
   ]
  },
  {
   "cell_type": "code",
   "execution_count": 20,
   "id": "52e01576-6511-4ac2-b91e-bc4997ce1515",
   "metadata": {},
   "outputs": [],
   "source": [
    "im.show();"
   ]
  },
  {
   "cell_type": "code",
   "execution_count": 21,
   "id": "89abfa26-86cd-4aa6-8010-39a0bf44df3d",
   "metadata": {},
   "outputs": [],
   "source": [
    "learn.predict(im)[0]"
   ]
  },
  {
   "cell_type": "code",
   "execution_count": 22,
   "id": "5cbff0f1-55f7-4eb5-b255-6161c29c4e59",
   "metadata": {},
   "outputs": [],
   "source": [
    "DONKEY_URL = \"https://cdn.britannica.com/68/143568-050-5246474F/Donkey.jpg\"\n",
    "response = requests.get(DONKEY_URL)\n",
    "learn.predict(response.content)[0]"
   ]
  },
  {
   "cell_type": "code",
   "execution_count": null,
   "id": "9f9b286e-1584-4cf3-8fae-0670f06b8b00",
   "metadata": {},
   "outputs": [],
   "source": []
  }
 ],
 "metadata": {},
 "nbformat": 4,
 "nbformat_minor": 5
}
