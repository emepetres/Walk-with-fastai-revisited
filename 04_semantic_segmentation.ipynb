{
  "cells": [
    {
      "cell_type": "code",
      "execution_count": 1,
      "id": "24d0f939-0f6c-4904-8824-7c87a9f160c1",
      "metadata": {
        "tags": [],
        "id": "24d0f939-0f6c-4904-8824-7c87a9f160c1"
      },
      "outputs": [],
      "source": [
        "from fastai.vision.all import *"
      ]
    },
    {
      "cell_type": "code",
      "execution_count": 2,
      "id": "ad1a14bc-8e95-4779-a9ee-3c34af86281b",
      "metadata": {
        "id": "ad1a14bc-8e95-4779-a9ee-3c34af86281b"
      },
      "outputs": [],
      "source": [
        "url = \"https://drive.google.com/uc?id=18xM3jU2dSp1DiDqEM6PVXattNMZvsX4z\""
      ]
    },
    {
      "cell_type": "code",
      "execution_count": null,
      "id": "2bd90cf6-e1f3-408b-bd91-3b50544745c9",
      "metadata": {
        "id": "2bd90cf6-e1f3-408b-bd91-3b50544745c9"
      },
      "outputs": [],
      "source": [
        "!gdown {url}"
      ]
    },
    {
      "cell_type": "code",
      "execution_count": 6,
      "id": "77f5eb23-f80d-402b-81bc-c67878700f63",
      "metadata": {
        "id": "77f5eb23-f80d-402b-81bc-c67878700f63"
      },
      "outputs": [],
      "source": [
        "from zipfile import ZipFile\n",
        "\n",
        "with ZipFile(\"Portrait.zip\", \"r\") as zip_ref:\n",
        "    zip_ref.extractall(\"data\")"
      ]
    },
    {
      "cell_type": "code",
      "execution_count": 7,
      "id": "718e08fe-7559-4752-b082-eb19d603cb00",
      "metadata": {
        "id": "718e08fe-7559-4752-b082-eb19d603cb00"
      },
      "outputs": [],
      "source": [
        "path = Path(\"data\")"
      ]
    },
    {
      "cell_type": "code",
      "execution_count": null,
      "id": "e0612b60-4cdc-423f-ae60-ff3e65db5a00",
      "metadata": {
        "id": "e0612b60-4cdc-423f-ae60-ff3e65db5a00"
      },
      "outputs": [],
      "source": [
        "for walk in path.ls():\n",
        "    print(repr(walk), walk.is_file())"
      ]
    },
    {
      "cell_type": "code",
      "execution_count": null,
      "id": "8c560e41-dbce-4bdd-8d83-c89f8164bb5b",
      "metadata": {
        "id": "8c560e41-dbce-4bdd-8d83-c89f8164bb5b"
      },
      "outputs": [],
      "source": [
        "(path/\"GT_png\").ls()[0]"
      ]
    },
    {
      "cell_type": "code",
      "execution_count": 10,
      "id": "17f407fa-3eb7-4424-ba37-84787d8697e0",
      "metadata": {
        "id": "17f407fa-3eb7-4424-ba37-84787d8697e0"
      },
      "outputs": [],
      "source": [
        "mask = Image.open((path/\"GT_png\").ls()[0])"
      ]
    },
    {
      "cell_type": "code",
      "execution_count": null,
      "id": "a4d8b456-2abb-41c6-bf28-7dac707577b5",
      "metadata": {
        "id": "a4d8b456-2abb-41c6-bf28-7dac707577b5"
      },
      "outputs": [],
      "source": [
        "mask"
      ]
    },
    {
      "cell_type": "code",
      "execution_count": null,
      "id": "c99b4bbe-9d3b-4463-9d68-ea0d5a0c9634",
      "metadata": {
        "id": "c99b4bbe-9d3b-4463-9d68-ea0d5a0c9634"
      },
      "outputs": [],
      "source": [
        "mask = np.asarray(mask); mask"
      ]
    },
    {
      "cell_type": "code",
      "execution_count": 13,
      "id": "55cda0ab-37ae-43d4-848b-a48b622c1ab5",
      "metadata": {
        "id": "55cda0ab-37ae-43d4-848b-a48b622c1ab5"
      },
      "outputs": [],
      "source": [
        "def get_codes(fnames) -> Dict[int,int]: \n",
        "    \"Returns a dictionary of `original_code:new_code` for pixel values in segmentation masks\"\n",
        "    unique_codes = set()\n",
        "    for fname in fnames:\n",
        "        mask = Image.open(fname)\n",
        "        mask = np.asarray(mask)\n",
        "        for color in np.unique(mask):\n",
        "            unique_codes.add(color)\n",
        "    return {\n",
        "        i : color\n",
        "        for i, color in \n",
        "        enumerate(unique_codes)\n",
        "    }"
      ]
    },
    {
      "cell_type": "code",
      "execution_count": null,
      "id": "0925d08f-4f86-4525-b806-01ffa2c83eba",
      "metadata": {
        "id": "0925d08f-4f86-4525-b806-01ffa2c83eba"
      },
      "outputs": [],
      "source": [
        "unique_codes = get_codes((path/\"GT_png\").ls()[:20])\n",
        "unique_codes"
      ]
    },
    {
      "cell_type": "code",
      "execution_count": null,
      "id": "ff4f706f-8414-4e1a-9372-cc171d34e74e",
      "metadata": {
        "id": "ff4f706f-8414-4e1a-9372-cc171d34e74e"
      },
      "outputs": [],
      "source": [
        "mask = mask.copy()\n",
        "np.place(mask, mask==255, 1)\n",
        "np.unique(mask)"
      ]
    },
    {
      "cell_type": "code",
      "execution_count": 16,
      "id": "a806dc9a-7014-4339-836a-ec785c2809b5",
      "metadata": {
        "id": "a806dc9a-7014-4339-836a-ec785c2809b5"
      },
      "outputs": [],
      "source": [
        "codes = [\"Background\", \"Face\"]\n",
        "blocks = (ImageBlock, MaskBlock(codes=codes))"
      ]
    },
    {
      "cell_type": "code",
      "execution_count": null,
      "id": "7be26a09-57b5-4e4f-be9c-6dbb5ecbb0dc",
      "metadata": {
        "id": "7be26a09-57b5-4e4f-be9c-6dbb5ecbb0dc"
      },
      "outputs": [],
      "source": [
        "unique_codes"
      ]
    },
    {
      "cell_type": "code",
      "execution_count": 18,
      "id": "323e5552-a836-4913-9e33-f372f19334ab",
      "metadata": {
        "id": "323e5552-a836-4913-9e33-f372f19334ab"
      },
      "outputs": [],
      "source": [
        "def get_y(filename:Path, unique_codes:dict):\n",
        "    \"Grabs a mask from `filename` and adjusts the pixel values based on `unique_codes`\"\n",
        "    filename = path/\"GT_png\"/f'{filename.stem}_mask.png'\n",
        "    mask = np.asarray(Image.open(filename)).copy()\n",
        "    for new_value, old_value in unique_codes.items():\n",
        "        np.place(mask, mask==old_value, new_value)\n",
        "    return PILMask.create(mask)"
      ]
    },
    {
      "cell_type": "code",
      "execution_count": null,
      "id": "b13cafa2-def9-4560-a88a-1a0573a366d7",
      "metadata": {
        "id": "b13cafa2-def9-4560-a88a-1a0573a366d7"
      },
      "outputs": [],
      "source": [
        "new_mask = get_y((path/\"images_data_crop\").ls()[0], unique_codes)\n",
        "new_mask.show(cmap=\"Blues\");"
      ]
    },
    {
      "cell_type": "code",
      "execution_count": 20,
      "id": "d261e2ca-fbc4-484b-9703-81ef2e82b08c",
      "metadata": {
        "id": "d261e2ca-fbc4-484b-9703-81ef2e82b08c"
      },
      "outputs": [],
      "source": [
        "block = DataBlock(\n",
        "    blocks=blocks,\n",
        "    splitter=RandomSplitter(),\n",
        "    get_y=partial(get_y, unique_codes=unique_codes),\n",
        "    item_tfms=Resize(224),\n",
        "    batch_tfms=[*aug_transforms(), Normalize.from_stats(*imagenet_stats)]\n",
        ")"
      ]
    },
    {
      "cell_type": "code",
      "execution_count": 21,
      "id": "8b61743e-a963-40e6-8bac-63b83a91c4f3",
      "metadata": {
        "id": "8b61743e-a963-40e6-8bac-63b83a91c4f3"
      },
      "outputs": [],
      "source": [
        "dls = block.dataloaders(\n",
        "    get_image_files(path/'images_data_crop'), \n",
        "    bs=8\n",
        ")"
      ]
    },
    {
      "cell_type": "code",
      "execution_count": null,
      "id": "b8833731-bc07-4e17-a164-be8533b9c264",
      "metadata": {
        "id": "b8833731-bc07-4e17-a164-be8533b9c264"
      },
      "outputs": [],
      "source": [
        "dls.show_batch(cmap=\"Blues\", vmin=0, vmax=1)"
      ]
    },
    {
      "cell_type": "code",
      "execution_count": 23,
      "id": "f41f7f4e-0e7e-487c-9a3a-30a1f7090901",
      "metadata": {
        "id": "f41f7f4e-0e7e-487c-9a3a-30a1f7090901"
      },
      "outputs": [],
      "source": [
        "splitter = RandomSplitter()\n",
        "dsets = Datasets(\n",
        "    get_image_files(path/'images_data_crop'),\n",
        "    tfms=[\n",
        "        [PILImage.create], \n",
        "        [partial(get_y, unique_codes=unique_codes)]\n",
        "    ],\n",
        "    splits = splitter(get_image_files(path/'images_data_crop'))\n",
        ")"
      ]
    },
    {
      "cell_type": "code",
      "execution_count": 24,
      "id": "8a1a81ac-ead0-4689-9fdc-f11bd3602f9d",
      "metadata": {
        "id": "8a1a81ac-ead0-4689-9fdc-f11bd3602f9d"
      },
      "outputs": [],
      "source": [
        "dls = dsets.dataloaders(\n",
        "    after_item = [\n",
        "        Resize(224), \n",
        "        ToTensor(), \n",
        "        AddMaskCodes(codes=codes)\n",
        "    ],\n",
        "    after_batch = [\n",
        "        *aug_transforms(), \n",
        "        IntToFloatTensor(), \n",
        "        Normalize.from_stats(*imagenet_stats)\n",
        "    ],\n",
        "    bs=8\n",
        ")"
      ]
    },
    {
      "cell_type": "code",
      "execution_count": null,
      "id": "7437750b-3628-4f7f-bcee-5ee9ab767ae3",
      "metadata": {
        "id": "7437750b-3628-4f7f-bcee-5ee9ab767ae3"
      },
      "outputs": [],
      "source": [
        "dls.show_batch(cmap=\"Blues\", vmin=0, vmax=1)"
      ]
    },
    {
      "cell_type": "code",
      "execution_count": 27,
      "id": "855b54be-61a2-47e0-b958-a76bc1946769",
      "metadata": {
        "id": "855b54be-61a2-47e0-b958-a76bc1946769"
      },
      "outputs": [],
      "source": [
        "learn = unet_learner(\n",
        "    dls, \n",
        "    resnet34, \n",
        "    metrics=partial(accuracy, axis=1), \n",
        "    self_attention=True, \n",
        "    act_cls=Mish,\n",
        "    loss_func = CrossEntropyLossFlat(axis=1)\n",
        ")"
      ]
    },
    {
      "cell_type": "code",
      "execution_count": null,
      "id": "b5f43d15-a3d7-434d-84c7-e5b6e9ae6feb",
      "metadata": {
        "id": "b5f43d15-a3d7-434d-84c7-e5b6e9ae6feb"
      },
      "outputs": [],
      "source": [
        "learn.summary()"
      ]
    },
    {
      "cell_type": "code",
      "execution_count": null,
      "id": "b7987b40-577f-4bb6-a390-e5bee32b66bf",
      "metadata": {
        "id": "b7987b40-577f-4bb6-a390-e5bee32b66bf"
      },
      "outputs": [],
      "source": [
        "learn.fit_one_cycle(10, 1e-3)"
      ]
    },
    {
      "cell_type": "code",
      "execution_count": null,
      "id": "b98a4bbe-33a4-42a9-9aba-ac33d69f0f41",
      "metadata": {
        "id": "b98a4bbe-33a4-42a9-9aba-ac33d69f0f41"
      },
      "outputs": [],
      "source": [
        "learn.save(\"stage_1\")\n",
        "#learn.load(\"stage_1\")"
      ]
    },
    {
      "cell_type": "code",
      "execution_count": null,
      "id": "cefea428-1bdb-49e5-8645-0d412560bbf2",
      "metadata": {
        "id": "cefea428-1bdb-49e5-8645-0d412560bbf2"
      },
      "outputs": [],
      "source": [
        "learn.show_results(max_n=4, figsize=(12,6))"
      ]
    },
    {
      "cell_type": "code",
      "execution_count": null,
      "id": "b1b58597-a83e-418e-8cad-2c26651368a4",
      "metadata": {
        "id": "b1b58597-a83e-418e-8cad-2c26651368a4"
      },
      "outputs": [],
      "source": [
        "learn.unfreeze()\n",
        "learn.fit_one_cycle(4, slice(1e-3/400, 1e-3/4))"
      ]
    },
    {
      "cell_type": "code",
      "execution_count": null,
      "id": "9240b5d5-079f-43ae-8728-d35285915744",
      "metadata": {
        "id": "9240b5d5-079f-43ae-8728-d35285915744"
      },
      "outputs": [],
      "source": [
        "learn.show_results(max_n=4, figsize=(12,6))"
      ]
    },
    {
      "cell_type": "code",
      "execution_count": null,
      "id": "1910faff-bf16-47a8-83e5-3220f494f4c3",
      "metadata": {
        "id": "1910faff-bf16-47a8-83e5-3220f494f4c3"
      },
      "outputs": [],
      "source": [
        "dl = learn.dls.test_dl(\n",
        "    (path/'images_data_crop').ls()[:5]\n",
        ")\n",
        "dl.show_batch()"
      ]
    },
    {
      "cell_type": "code",
      "execution_count": null,
      "id": "f140d661-c31a-480e-82a8-d8dc2286fe44",
      "metadata": {
        "id": "f140d661-c31a-480e-82a8-d8dc2286fe44"
      },
      "outputs": [],
      "source": [
        "preds = learn.get_preds(dl=dl)"
      ]
    },
    {
      "cell_type": "code",
      "execution_count": null,
      "id": "e9f82cad-348b-4598-8371-d3f694088c92",
      "metadata": {
        "id": "e9f82cad-348b-4598-8371-d3f694088c92"
      },
      "outputs": [],
      "source": [
        "preds[0].shape"
      ]
    },
    {
      "cell_type": "code",
      "execution_count": 45,
      "id": "270c4c4c-0783-4af6-9aaf-211136819100",
      "metadata": {
        "id": "270c4c4c-0783-4af6-9aaf-211136819100"
      },
      "outputs": [],
      "source": [
        "pred = preds[0][0].argmax(dim=0)"
      ]
    },
    {
      "cell_type": "code",
      "execution_count": null,
      "id": "408153fa-7c0a-4913-b927-1b231816a92e",
      "metadata": {
        "id": "408153fa-7c0a-4913-b927-1b231816a92e"
      },
      "outputs": [],
      "source": [
        "pred.shape"
      ]
    },
    {
      "cell_type": "code",
      "execution_count": null,
      "id": "f76a3250-4bb3-4b61-b624-d76ff5009882",
      "metadata": {
        "id": "f76a3250-4bb3-4b61-b624-d76ff5009882"
      },
      "outputs": [],
      "source": [
        "plt.imshow(pred);"
      ]
    },
    {
      "cell_type": "code",
      "execution_count": 48,
      "id": "24c06a87-ce66-49f7-a40f-c8a734a098e7",
      "metadata": {
        "id": "24c06a87-ce66-49f7-a40f-c8a734a098e7"
      },
      "outputs": [],
      "source": [
        "pred = pred.numpy()\n",
        "rescaled = (255.0 / pred.max() * (pred - pred.min())).astype(np.uint8)\n",
        "im = Image.fromarray(rescaled)\n",
        "im.save(\"mask.png\")"
      ]
    },
    {
      "cell_type": "code",
      "execution_count": null,
      "id": "f0a491de-f8ae-42c4-96e2-6bd5bb1766b5",
      "metadata": {
        "id": "f0a491de-f8ae-42c4-96e2-6bd5bb1766b5"
      },
      "outputs": [],
      "source": [
        "im"
      ]
    },
    {
      "cell_type": "code",
      "execution_count": 72,
      "id": "63f87c78-3a8b-4be2-bdcb-ab1503baca59",
      "metadata": {
        "id": "63f87c78-3a8b-4be2-bdcb-ab1503baca59"
      },
      "outputs": [],
      "source": [
        "fnames = (path/'images_data_crop').ls()[:5]\n",
        "\n",
        "item_tfms = Pipeline([\n",
        "    PILImage.create, \n",
        "    RandomResizedCrop(224), \n",
        "    ToTensor()\n",
        "], split_idx=1)\n",
        "\n",
        "batch_tfms = Pipeline([\n",
        "    IntToFloatTensor(), \n",
        "    Normalize.from_stats(*imagenet_stats)\n",
        "])\n",
        "\n",
        "batch = []\n",
        "for fname in fnames:\n",
        "    batch.append(item_tfms(fname))\n",
        "batch = torch.stack(batch, dim=0)\n",
        "batch = batch_tfms(batch.cuda())\n",
        "\n",
        "model = learn.model\n",
        "model.eval()\n",
        "\n",
        "with torch.no_grad():\n",
        "    preds = model(batch)\n",
        "\n",
        "for i,pred in enumerate(preds):\n",
        "    pred = pred.argmax(0)\n",
        "    pred = pred.cpu().numpy()\n",
        "    rescaled = (255.0 / pred.max() * (pred - pred.min())).astype(np.uint8)\n",
        "    im = Image.fromarray(rescaled)\n",
        "    im.save(f'pred_{i}.png')"
      ]
    },
    {
      "cell_type": "code",
      "execution_count": null,
      "id": "fc8bcdc1-1ab4-49e7-b67f-b3debddae1d4",
      "metadata": {
        "id": "fc8bcdc1-1ab4-49e7-b67f-b3debddae1d4"
      },
      "outputs": [],
      "source": []
    }
  ],
  "metadata": {
    "kernelspec": {
      "display_name": "Python 3 (ipykernel)",
      "language": "python",
      "name": "python3"
    },
    "language_info": {
      "codemirror_mode": {
        "name": "ipython",
        "version": 3
      },
      "file_extension": ".py",
      "mimetype": "text/x-python",
      "name": "python",
      "nbconvert_exporter": "python",
      "pygments_lexer": "ipython3",
      "version": "3.9.13"
    },
    "colab": {
      "provenance": [],
      "machine_shape": "hm"
    },
    "accelerator": "GPU",
    "gpuClass": "premium"
  },
  "nbformat": 4,
  "nbformat_minor": 5
}