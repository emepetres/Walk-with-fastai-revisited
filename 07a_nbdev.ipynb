{
 "cells": [
  {
   "cell_type": "code",
   "execution_count": null,
   "id": "cdb5a118-eb64-48c0-93e5-62a997733b38",
   "metadata": {},
   "outputs": [],
   "source": [
    "#| default_exp core"
   ]
  },
  {
   "cell_type": "code",
   "execution_count": 1,
   "id": "2d72ce68",
   "metadata": {},
   "outputs": [],
   "source": [
    "#| export\n",
    "def addition(a,b):\n",
    "    \"Add two numbers together\"\n",
    "    return a+b"
   ]
  },
  {
   "cell_type": "code",
   "execution_count": 2,
   "id": "422331ae-4ca1-4a29-a6db-89a256390b76",
   "metadata": {},
   "outputs": [],
   "source": [
    "#| exports\n",
    "def subtraction(a,b):\n",
    "    \"Subtracts two numbers\"\n",
    "    return a-b"
   ]
  }
 ],
 "metadata": {},
 "nbformat": 4,
 "nbformat_minor": 5
}
